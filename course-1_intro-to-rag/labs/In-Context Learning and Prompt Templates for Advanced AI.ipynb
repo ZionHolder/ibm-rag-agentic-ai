{
 "cells": [
  {
   "cell_type": "markdown",
   "metadata": {},
   "source": [
    "<p style=\"text-align:center\">\n",
    "    <a href=\"https://skills.network\" target=\"_blank\">\n",
    "    <img src=\"https://cf-courses-data.s3.us.cloud-object-storage.appdomain.cloud/assets/logos/SN_web_lightmode.png\" width=\"200\" alt=\"Skills Network Logo\"  />\n",
    "    </a>\n",
    "</p>\n"
   ]
  },
  {
   "cell_type": "markdown",
   "metadata": {},
   "source": [
    "# Master Prompt Engineering and LangChain PromptTemplates\n"
   ]
  },
  {
   "cell_type": "markdown",
   "metadata": {},
   "source": [
    "Estimated time needed: **45** minutes\n"
   ]
  },
  {
   "cell_type": "markdown",
   "metadata": {},
   "source": [
    "## Overview\n"
   ]
  },
  {
   "cell_type": "markdown",
   "metadata": {},
   "source": [
    "You're stepping into the world of prompt engineering, where each command you craft has the power to guide intelligent LLM systems toward specific outcomes. In this tutorial, you will explore the foundational aspects of prompt engineering, dive into advanced in-context learning techniques such as few-shot and self-consistent learning, and learn how to effectively use tools like LangChain to create prompt templates.\n",
    "\n",
    "You'll start by learning the basics—how to formulate prompts that communicate effectively with AI. From there, you'll explore how LangChain prompt templates can simplify and enhance this process, making it more structured and efficient.\n",
    "\n",
    "As you progress, you'll learn to apply these skills in practical scenarios, creating sophisticated applications like QA bots and text summarization tools. By using LangChain prompt templates, you'll see firsthand how structured prompting can streamline the development of these applications, transforming complex requirements into clear, concise tasks for AI.\n"
   ]
  },
  {
   "cell_type": "markdown",
   "metadata": {},
   "source": [
    "<img src=\"https://cf-courses-data.s3.us.cloud-object-storage.appdomain.cloud/ai8G4tOU4mksEYfv5wsghA/prompt%20engineering.png\" width=\"50%\" alt=\"indexing\"/>\n"
   ]
  },
  {
   "cell_type": "markdown",
   "metadata": {},
   "source": [
    "By the end of this tutorial, you'll not only master various prompt engineering techniques but also gain hands-on experience applying these techniques to real-world problems, ensuring you're well-prepared to harness the full potential of AI in diverse settings.\n"
   ]
  },
  {
   "cell_type": "markdown",
   "metadata": {},
   "source": [
    "## __Table of Contents__\n",
    "\n",
    "<ol>\n",
    "    <li><a href=\"#Objectives\">Objectives</a></li>\n",
    "    <li>\n",
    "        <a href=\"#Setup\">Setup</a>\n",
    "        <ol>\n",
    "            <li><a href=\"#Install-required-libraries\">Install required libraries</a></li>\n",
    "            <li><a href=\"#Import-required-libraries\">Import required libraries</a></li>\n",
    "            <li><a href=\"#Set-up-the-LLM\">Set up the LLM</a></li>\n",
    "        </ol>\n",
    "    </li>\n",
    "    <li>\n",
    "        <a href=\"#Prompt-engineering\">Prompt engineering</a>\n",
    "        <ol>\n",
    "            <li>\n",
    "                <a href=\"#Basic-prompt\">Basic prompt</a>\n",
    "                <ol>\n",
    "                    <li><a href=\"#Exercise-1\">Exercise 1</a></li>\n",
    "                </ol>\n",
    "            </li>\n",
    "            <li>\n",
    "                <a href=\"#Zero-shot-prompt\">Zero-shot prompt</a>\n",
    "                <ol>\n",
    "                    <li><a href=\"#Exercise-2\">Exercise 2</a></li>\n",
    "                </ol>\n",
    "            </li>\n",
    "            <li>\n",
    "                <a href=\"#One-shot-prompt\">One-shot prompt</a>\n",
    "                <ol>\n",
    "                    <li><a href=\"#Exercise-3\">Exercise 3</a></li>\n",
    "                </ol>\n",
    "            </li>\n",
    "            <li><a href=\"#Few-shot-prompt\">Few-shot prompt</a></li>\n",
    "            <li>\n",
    "                <a href=\"#Chain-of-thought-(CoT)-prompt\">Chain-of-thought (CoT) prompt</a>\n",
    "                <ol>\n",
    "                    <li><a href=\"#Exercise-4\">Exercise 4</a></li>\n",
    "                </ol>\n",
    "            </li>\n",
    "            <li><a href=\"#Self-consistency\">Self-consistency</a></li>\n",
    "        </ol>\n",
    "    </li>\n",
    "    <li>\n",
    "        <a href=\"#Applications-of-prompting-in-different-use-cases\">Applications of prompting in different use cases</a>\n",
    "        <ol>\n",
    "            <li><a href=\"#Introduction-to-LangChain\">Introduction to LangChain</a></li>\n",
    "            <li><a href=\"#Prompt-template\">Prompt template</a></li>\n",
    "            <li><a href=\"#Text-summarization\">Text summarization</a></li>\n",
    "            <li><a href=\"#Question-answering\">Question answering</a></li>\n",
    "            <li><a href=\"#Text-classification\">Text classification</a></li>\n",
    "            <li><a href=\"#Code-generation\">Code generation</a></li>\n",
    "            <li><a href=\"#Role-playing\">Role playing</a></li>\n",
    "            <li><a href=\"#Exercise-5\">Exercise 5</a></li>\n",
    "        </ol>\n",
    "    </li>\n",
    "    <li><a href=\"#Conclusion\">Conclusion</a></li>\n",
    "    <li><a href=\"#Authors\">Authors</a></li>\n",
    "</ol>\n"
   ]
  },
  {
   "cell_type": "markdown",
   "metadata": {},
   "source": [
    "## Objectives\n",
    "\n",
    "After completing this lab, you will be able to:\n",
    "\n",
    "- **Understand the basics of prompt engineering**: Gain a solid foundation in how to effectively communicate with LLM using prompts, setting the stage for more advanced techniques.\n",
    "\n",
    "- **Master advanced prompt techniques**: Learn and apply advanced prompt engineering methods such as few-shot and self-consistent learning to optimize the LLM's response.\n",
    "\n",
    "- **Utilize LangChain prompt templates**: Become proficient in using LangChain's prompt template to structure and optimize your interactions with LLMs.\n",
    "\n",
    "- **Develop practical LLM agents**: Acquire the skills to create and implement agents such as QA bots and text summarization tools using the LangChain prompt template, translating theoretical knowledge into practical solutions.\n"
   ]
  },
  {
   "cell_type": "markdown",
   "metadata": {},
   "source": [
    "----\n"
   ]
  },
  {
   "cell_type": "markdown",
   "metadata": {},
   "source": [
    "## Setup\n"
   ]
  },
  {
   "cell_type": "markdown",
   "metadata": {},
   "source": [
    "For this lab, you will use the following libraries:\n",
    "\n",
    "*   [`ibm-watsonx-ai`](https://ibm.github.io/watson-machine-learning-sdk/index.html): Enables the use of LLMs from IBM's watsonx.ai.\n",
    "*   [`langchain`](https://www.langchain.com/): Provides various chain and prompt functions from LangChain.\n",
    "*   [`langchain-ibm`](https://python.langchain.com/v0.1/docs/integrations/llms/ibm_watsonx/): Facilitates integration between LangChain and IBM watsonx.ai.\n"
   ]
  },
  {
   "cell_type": "markdown",
   "metadata": {},
   "source": [
    "### Install required libraries\n",
    "\n",
    "The following required libraries are __not__ preinstalled in the Skills Network Labs environment. __You must run the following cell__ to install them:\n",
    "\n",
    "**Note:** The version has been pinned to ensure compatibility. It's recommended that you do the same. While future updates may be available, the pinned version ensures that the library continues to support this lab.\n",
    "\n",
    "This might take approximately 1-2 minutes.\n",
    "\n",
    "`%%capture` has been used to capture the installation, so you won’t see the process. However, once the installation is complete, a number will appear next to the cell.\n"
   ]
  },
  {
   "cell_type": "code",
   "execution_count": 3,
   "metadata": {},
   "outputs": [
    {
     "name": "stdout",
     "output_type": "stream",
     "text": [
      "Collecting ibm-watsonx-ai==1.0.8\n",
      "  Downloading ibm_watsonx_ai-1.0.8-py3-none-any.whl.metadata (3.9 kB)\n",
      "Requirement already satisfied: requests in /opt/conda/lib/python3.12/site-packages (from ibm-watsonx-ai==1.0.8) (2.32.3)\n",
      "Requirement already satisfied: urllib3 in /opt/conda/lib/python3.12/site-packages (from ibm-watsonx-ai==1.0.8) (2.3.0)\n",
      "Collecting pandas<2.2.0,>=0.24.2 (from ibm-watsonx-ai==1.0.8)\n",
      "  Downloading pandas-2.1.4-cp312-cp312-manylinux_2_17_x86_64.manylinux2014_x86_64.whl.metadata (18 kB)\n",
      "Requirement already satisfied: certifi in /opt/conda/lib/python3.12/site-packages (from ibm-watsonx-ai==1.0.8) (2024.12.14)\n",
      "Collecting lomond (from ibm-watsonx-ai==1.0.8)\n",
      "  Downloading lomond-0.3.3-py2.py3-none-any.whl.metadata (4.1 kB)\n",
      "Collecting tabulate (from ibm-watsonx-ai==1.0.8)\n",
      "  Downloading tabulate-0.9.0-py3-none-any.whl.metadata (34 kB)\n",
      "Requirement already satisfied: packaging in /opt/conda/lib/python3.12/site-packages (from ibm-watsonx-ai==1.0.8) (24.2)\n",
      "Collecting ibm-cos-sdk<2.14.0,>=2.12.0 (from ibm-watsonx-ai==1.0.8)\n",
      "  Downloading ibm-cos-sdk-2.13.6.tar.gz (58 kB)\n",
      "  Preparing metadata (setup.py) ... \u001b[?25ldone\n",
      "\u001b[?25hRequirement already satisfied: importlib-metadata in /opt/conda/lib/python3.12/site-packages (from ibm-watsonx-ai==1.0.8) (8.6.1)\n",
      "Collecting ibm-cos-sdk-core==2.13.6 (from ibm-cos-sdk<2.14.0,>=2.12.0->ibm-watsonx-ai==1.0.8)\n",
      "  Downloading ibm-cos-sdk-core-2.13.6.tar.gz (1.1 MB)\n",
      "\u001b[2K     \u001b[90m━━━━━━━━━━━━━━━━━━━━━━━━━━━━━━━━━━━━━━━━\u001b[0m \u001b[32m1.1/1.1 MB\u001b[0m \u001b[31m43.2 MB/s\u001b[0m eta \u001b[36m0:00:00\u001b[0m\n",
      "  Preparing metadata (setup.py) ... \u001b[?25ldone\n",
      "\u001b[?25hCollecting ibm-cos-sdk-s3transfer==2.13.6 (from ibm-cos-sdk<2.14.0,>=2.12.0->ibm-watsonx-ai==1.0.8)\n",
      "  Downloading ibm-cos-sdk-s3transfer-2.13.6.tar.gz (139 kB)\n",
      "  Preparing metadata (setup.py) ... \u001b[?25ldone\n",
      "\u001b[?25hCollecting jmespath<=1.0.1,>=0.10.0 (from ibm-cos-sdk<2.14.0,>=2.12.0->ibm-watsonx-ai==1.0.8)\n",
      "  Downloading jmespath-1.0.1-py3-none-any.whl.metadata (7.6 kB)\n",
      "Requirement already satisfied: python-dateutil<3.0.0,>=2.9.0 in /opt/conda/lib/python3.12/site-packages (from ibm-cos-sdk-core==2.13.6->ibm-cos-sdk<2.14.0,>=2.12.0->ibm-watsonx-ai==1.0.8) (2.9.0.post0)\n",
      "Collecting requests (from ibm-watsonx-ai==1.0.8)\n",
      "  Downloading requests-2.32.2-py3-none-any.whl.metadata (4.6 kB)\n",
      "Collecting numpy<2,>=1.26.0 (from pandas<2.2.0,>=0.24.2->ibm-watsonx-ai==1.0.8)\n",
      "  Downloading numpy-1.26.4-cp312-cp312-manylinux_2_17_x86_64.manylinux2014_x86_64.whl.metadata (61 kB)\n",
      "Requirement already satisfied: pytz>=2020.1 in /opt/conda/lib/python3.12/site-packages (from pandas<2.2.0,>=0.24.2->ibm-watsonx-ai==1.0.8) (2024.2)\n",
      "Collecting tzdata>=2022.1 (from pandas<2.2.0,>=0.24.2->ibm-watsonx-ai==1.0.8)\n",
      "  Downloading tzdata-2025.2-py2.py3-none-any.whl.metadata (1.4 kB)\n",
      "Requirement already satisfied: charset-normalizer<4,>=2 in /opt/conda/lib/python3.12/site-packages (from requests->ibm-watsonx-ai==1.0.8) (3.4.1)\n",
      "Requirement already satisfied: idna<4,>=2.5 in /opt/conda/lib/python3.12/site-packages (from requests->ibm-watsonx-ai==1.0.8) (3.10)\n",
      "Requirement already satisfied: zipp>=3.20 in /opt/conda/lib/python3.12/site-packages (from importlib-metadata->ibm-watsonx-ai==1.0.8) (3.21.0)\n",
      "Requirement already satisfied: six>=1.10.0 in /opt/conda/lib/python3.12/site-packages (from lomond->ibm-watsonx-ai==1.0.8) (1.17.0)\n",
      "Downloading ibm_watsonx_ai-1.0.8-py3-none-any.whl (929 kB)\n",
      "\u001b[2K   \u001b[90m━━━━━━━━━━━━━━━━━━━━━━━━━━━━━━━━━━━━━━━━\u001b[0m \u001b[32m929.9/929.9 kB\u001b[0m \u001b[31m50.5 MB/s\u001b[0m eta \u001b[36m0:00:00\u001b[0m\n",
      "Downloading pandas-2.1.4-cp312-cp312-manylinux_2_17_x86_64.manylinux2014_x86_64.whl (11.7 MB)\n",
      "\u001b[2K   \u001b[90m━━━━━━━━━━━━━━━━━━━━━━━━━━━━━━━━━━━━━━━━\u001b[0m \u001b[32m11.7/11.7 MB\u001b[0m \u001b[31m135.3 MB/s\u001b[0m eta \u001b[36m0:00:00\u001b[0m\n",
      "\u001b[?25hDownloading requests-2.32.2-py3-none-any.whl (63 kB)\n",
      "Downloading lomond-0.3.3-py2.py3-none-any.whl (35 kB)\n",
      "Downloading tabulate-0.9.0-py3-none-any.whl (35 kB)\n",
      "Downloading jmespath-1.0.1-py3-none-any.whl (20 kB)\n",
      "Downloading numpy-1.26.4-cp312-cp312-manylinux_2_17_x86_64.manylinux2014_x86_64.whl (18.0 MB)\n",
      "\u001b[2K   \u001b[90m━━━━━━━━━━━━━━━━━━━━━━━━━━━━━━━━━━━━━━━━\u001b[0m \u001b[32m18.0/18.0 MB\u001b[0m \u001b[31m134.4 MB/s\u001b[0m eta \u001b[36m0:00:00\u001b[0m\n",
      "\u001b[?25hDownloading tzdata-2025.2-py2.py3-none-any.whl (347 kB)\n",
      "Building wheels for collected packages: ibm-cos-sdk, ibm-cos-sdk-core, ibm-cos-sdk-s3transfer\n",
      "  Building wheel for ibm-cos-sdk (setup.py) ... \u001b[?25done\n",
      "\u001b[?25h  Created wheel for ibm-cos-sdk: filename=ibm_cos_sdk-2.13.6-py3-none-any.whl size=77287 sha256=c4d227ce033506de770483092abe4b40c1e183401218236891ce22c7af2c9851\n",
      "  Stored in directory: /home/jupyterlab/.cache/pip/wheels/17/c5/52/64bd703cf3cc4a83ba0e39d9b3eedc3a15afced69bbe6cf306\n",
      "  Building wheel for ibm-cos-sdk-core (setup.py) ... \u001b[?done\n",
      "\u001b[?25h  Created wheel for ibm-cos-sdk-core: filename=ibm_cos_sdk_core-2.13.6-py3-none-any.whl size=661517 sha256=503c1e2c66b9c47e5342fdc3c86750e2436be322fa881ca6d3fe35cfbfa92aec\n",
      "  Stored in directory: /home/jupyterlab/.cache/pip/wheels/3f/11/58/646f89b99861739fce853f8776e5037d0f704d5d9623a07f7c\n",
      "  Building wheel for ibm-cos-sdk-s3transfer (setup.py) ... \u001b[?25done\n",
      "\u001b[?25h  Created wheel for ibm-cos-sdk-s3transfer: filename=ibm_cos_sdk_s3transfer-2.13.6-py3-none-any.whl size=90257 sha256=654b93b728c00e37808456dcbd87ca27e3a76990f94ca72f0309cc37bcd41096\n",
      "  Stored in directory: /home/jupyterlab/.cache/pip/wheels/52/9d/54/09e4008d97d8a2e38ecff56eea0d60ef27a77d9a313cc77360\n",
      "Successfully built ibm-cos-sdk ibm-cos-sdk-core ibm-cos-sdk-s3transfer\n",
      "Installing collected packages: tzdata, tabulate, requests, numpy, lomond, jmespath, pandas, ibm-cos-sdk-core, ibm-cos-sdk-s3transfer, ibm-cos-sdk, ibm-watsonx-ai\n",
      "Successfully installed ibm-cos-sdk-2.13.6 ibm-cos-sdk-core-2.13.6 ibm-cos-sdk-s3transfer-2.13.6 ibm-watsonx-ai-1.0.8 jmespath-1.0.1 lomond-0.3.3 numpy-1.26.4 pandas-2.1.4 requests-2.32.2 tabulate-0.9.0 tzdata-2025.2\n",
      "Collecting langchain==0.2.11\n",
      "  Downloading langchain-0.2.11-py3-none-any.whl.metadata (7.1 kB)\n",
      "Requirement already satisfied: PyYAML>=5.3 in /opt/conda/lib/python3.12/site-packages (from langchain==0.2.11) (6.0.2)\n",
      "Requirement already satisfied: SQLAlchemy<3,>=1.4 in /opt/conda/lib/python3.12/site-packages (from langchain==0.2.11) (2.0.37)\n",
      "Requirement already satisfied: aiohttp<4.0.0,>=3.8.3 in /opt/conda/lib/python3.12/site-packages (from langchain==0.2.11) (3.11.18)\n",
      "Collecting langchain-core<0.3.0,>=0.2.23 (from langchain==0.2.11)\n",
      "  Downloading langchain_core-0.2.43-py3-none-any.whl.metadata (6.2 kB)\n",
      "Collecting langchain-text-splitters<0.3.0,>=0.2.0 (from langchain==0.2.11)\n",
      "  Downloading langchain_text_splitters-0.2.4-py3-none-any.whl.metadata (2.3 kB)\n",
      "Collecting langsmith<0.2.0,>=0.1.17 (from langchain==0.2.11)\n",
      "  Downloading langsmith-0.1.147-py3-none-any.whl.metadata (14 kB)\n",
      "Requirement already satisfied: numpy<2.0.0,>=1.26.0 in /home/jupyterlab/.local/lib/python3.12/site-packages (from langchain==0.2.11) (1.26.4)\n",
      "Requirement already satisfied: pydantic<3,>=1 in /opt/conda/lib/python3.12/site-packages (from langchain==0.2.11) (2.10.6)\n",
      "Requirement already satisfied: requests<3,>=2 in /home/jupyterlab/.local/lib/python3.12/site-packages (from langchain==0.2.11) (2.32.2)\n",
      "Collecting tenacity!=8.4.0,<9.0.0,>=8.1.0 (from langchain==0.2.11)\n",
      "  Downloading tenacity-8.5.0-py3-none-any.whl.metadata (1.2 kB)\n",
      "Requirement already satisfied: aiohappyeyeballs>=2.3.0 in /opt/conda/lib/python3.12/site-packages (from aiohttp<4.0.0,>=3.8.3->langchain==0.2.11) (2.6.1)\n",
      "Requirement already satisfied: aiosignal>=1.1.2 in /opt/conda/lib/python3.12/site-packages (from aiohttp<4.0.0,>=3.8.3->langchain==0.2.11) (1.3.2)\n",
      "Requirement already satisfied: attrs>=17.3.0 in /opt/conda/lib/python3.12/site-packages (from aiohttp<4.0.0,>=3.8.3->langchain==0.2.11) (25.1.0)\n",
      "Requirement already satisfied: frozenlist>=1.1.1 in /opt/conda/lib/python3.12/site-packages (from aiohttp<4.0.0,>=3.8.3->langchain==0.2.11) (1.6.0)\n",
      "Requirement already satisfied: multidict<7.0,>=4.5 in /opt/conda/lib/python3.12/site-packages (from aiohttp<4.0.0,>=3.8.3->langchain==0.2.11) (6.4.3)\n",
      "Requirement already satisfied: propcache>=0.2.0 in /opt/conda/lib/python3.12/site-packages (from aiohttp<4.0.0,>=3.8.3->langchain==0.2.11) (0.3.1)\n",
      "Requirement already satisfied: yarl<2.0,>=1.17.0 in /opt/conda/lib/python3.12/site-packages (from aiohttp<4.0.0,>=3.8.3->langchain==0.2.11) (1.20.0)\n",
      "Requirement already satisfied: jsonpatch<2.0,>=1.33 in /opt/conda/lib/python3.12/site-packages (from langchain-core<0.3.0,>=0.2.23->langchain==0.2.11) (1.33)\n",
      "Requirement already satisfied: packaging<25,>=23.2 in /opt/conda/lib/python3.12/site-packages (from langchain-core<0.3.0,>=0.2.23->langchain==0.2.11) (24.2)\n",
      "Requirement already satisfied: typing-extensions>=4.7 in /opt/conda/lib/python3.12/site-packages (from langchain-core<0.3.0,>=0.2.23->langchain==0.2.11) (4.12.2)\n",
      "Requirement already satisfied: httpx<1,>=0.23.0 in /opt/conda/lib/python3.12/site-packages (from langsmith<0.2.0,>=0.1.17->langchain==0.2.11) (0.28.1)\n",
      "Collecting orjson<4.0.0,>=3.9.14 (from langsmith<0.2.0,>=0.1.17->langchain==0.2.11)\n",
      "  Downloading orjson-3.10.18-cp312-cp312-manylinux_2_17_x86_64.manylinux2014_x86_64.whl.metadata (41 kB)\n",
      "Collecting requests-toolbelt<2.0.0,>=1.0.0 (from langsmith<0.2.0,>=0.1.17->langchain==0.2.11)\n",
      "  Downloading requests_toolbelt-1.0.0-py2.py3-none-any.whl.metadata (14 kB)\n",
      "Requirement already satisfied: annotated-types>=0.6.0 in /opt/conda/lib/python3.12/site-packages (from pydantic<3,>=1->langchain==0.2.11) (0.7.0)\n",
      "Requirement already satisfied: pydantic-core==2.27.2 in /opt/conda/lib/python3.12/site-packages (from pydantic<3,>=1->langchain==0.2.11) (2.27.2)\n",
      "Requirement already satisfied: charset-normalizer<4,>=2 in /opt/conda/lib/python3.12/site-packages (from requests<3,>=2->langchain==0.2.11) (3.4.1)\n",
      "Requirement already satisfied: idna<4,>=2.5 in /opt/conda/lib/python3.12/site-packages (from requests<3,>=2->langchain==0.2.11) (3.10)\n",
      "Requirement already satisfied: urllib3<3,>=1.21.1 in /opt/conda/lib/python3.12/site-packages (from requests<3,>=2->langchain==0.2.11) (2.3.0)\n",
      "Requirement already satisfied: certifi>=2017.4.17 in /opt/conda/lib/python3.12/site-packages (from requests<3,>=2->langchain==0.2.11) (2024.12.14)\n",
      "Requirement already satisfied: greenlet!=0.4.17 in /opt/conda/lib/python3.12/site-packages (from SQLAlchemy<3,>=1.4->langchain==0.2.11) (3.1.1)\n",
      "Requirement already satisfied: anyio in /opt/conda/lib/python3.12/site-packages (from httpx<1,>=0.23.0->langsmith<0.2.0,>=0.1.17->langchain==0.2.11) (4.8.0)\n",
      "Requirement already satisfied: httpcore==1.* in /opt/conda/lib/python3.12/site-packages (from httpx<1,>=0.23.0->langsmith<0.2.0,>=0.1.17->langchain==0.2.11) (1.0.7)\n",
      "Requirement already satisfied: h11<0.15,>=0.13 in /opt/conda/lib/python3.12/site-packages (from httpcore==1.*->httpx<1,>=0.23.0->langsmith<0.2.0,>=0.1.17->langchain==0.2.11) (0.14.0)\n",
      "Requirement already satisfied: jsonpointer>=1.9 in /opt/conda/lib/python3.12/site-packages (from jsonpatch<2.0,>=1.33->langchain-core<0.3.0,>=0.2.23->langchain==0.2.11) (3.0.0)\n",
      "Requirement already satisfied: sniffio>=1.1 in /opt/conda/lib/python3.12/site-packages (from anyio->httpx<1,>=0.23.0->langsmith<0.2.0,>=0.1.17->langchain==0.2.11) (1.3.1)\n",
      "Downloading langchain-0.2.11-py3-none-any.whl (990 kB)\n",
      "\u001b[2K   \u001b[90m━━━━━━━━━━━━━━━━━━━━━━━━━━━━━━━━━━━━━━━━\u001b[0m \u001b[32m990.3/990.3 kB\u001b[0m \u001b[31m43.1 MB/s\u001b[0m eta \u001b[36m0:00:00\u001b[0m\n",
      "\u001b[?25hDownloading langchain_core-0.2.43-py3-none-any.whl (397 kB)\n",
      "Downloading langchain_text_splitters-0.2.4-py3-none-any.whl (25 kB)\n",
      "Downloading langsmith-0.1.147-py3-none-any.whl (311 kB)\n",
      "Downloading tenacity-8.5.0-py3-none-any.whl (28 kB)\n",
      "Downloading orjson-3.10.18-cp312-cp312-manylinux_2_17_x86_64.manylinux2014_x86_64.whl (133 kB)\n",
      "Downloading requests_toolbelt-1.0.0-py2.py3-none-any.whl (54 kB)\n",
      "Installing collected packages: tenacity, orjson, requests-toolbelt, langsmith, langchain-core, langchain-text-splitters, langchain\n",
      "Successfully installed langchain-0.2.11 langchain-core-0.2.43 langchain-text-splitters-0.2.4 langsmith-0.1.147 orjson-3.10.18 requests-toolbelt-1.0.0 tenacity-8.5.0\n",
      "Collecting langchain-ibm==0.1.7\n",
      "  Downloading langchain_ibm-0.1.7-py3-none-any.whl.metadata (5.2 kB)\n",
      "Requirement already satisfied: ibm-watsonx-ai<2.0.0,>=1.0.1 in /home/jupyterlab/.local/lib/python3.12/site-packages (from langchain-ibm==0.1.7) (1.0.8)\n",
      "Requirement already satisfied: langchain-core<0.3,>=0.1.50 in /home/jupyterlab/.local/lib/python3.12/site-packages (from langchain-ibm==0.1.7) (0.2.43)\n",
      "Requirement already satisfied: requests in /home/jupyterlab/.local/lib/python3.12/site-packages (from ibm-watsonx-ai<2.0.0,>=1.0.1->langchain-ibm==0.1.7) (2.32.2)\n",
      "Requirement already satisfied: urllib3 in /opt/conda/lib/python3.12/site-packages (from ibm-watsonx-ai<2.0.0,>=1.0.1->langchain-ibm==0.1.7) (2.3.0)\n",
      "Requirement already satisfied: pandas<2.2.0,>=0.24.2 in /home/jupyterlab/.local/lib/python3.12/site-packages (from ibm-watsonx-ai<2.0.0,>=1.0.1->langchain-ibm==0.1.7) (2.1.4)\n",
      "Requirement already satisfied: certifi in /opt/conda/lib/python3.12/site-packages (from ibm-watsonx-ai<2.0.0,>=1.0.1->langchain-ibm==0.1.7) (2024.12.14)\n",
      "Requirement already satisfied: lomond in /home/jupyterlab/.local/lib/python3.12/site-packages (from ibm-watsonx-ai<2.0.0,>=1.0.1->langchain-ibm==0.1.7) (0.3.3)\n",
      "Requirement already satisfied: tabulate in /home/jupyterlab/.local/lib/python3.12/site-packages (from ibm-watsonx-ai<2.0.0,>=1.0.1->langchain-ibm==0.1.7) (0.9.0)\n",
      "Requirement already satisfied: packaging in /opt/conda/lib/python3.12/site-packages (from ibm-watsonx-ai<2.0.0,>=1.0.1->langchain-ibm==0.1.7) (24.2)\n",
      "Requirement already satisfied: ibm-cos-sdk<2.14.0,>=2.12.0 in /home/jupyterlab/.local/lib/python3.12/site-packages (from ibm-watsonx-ai<2.0.0,>=1.0.1->langchain-ibm==0.1.7) (2.13.6)\n",
      "Requirement already satisfied: importlib-metadata in /opt/conda/lib/python3.12/site-packages (from ibm-watsonx-ai<2.0.0,>=1.0.1->langchain-ibm==0.1.7) (8.6.1)\n",
      "Requirement already satisfied: PyYAML>=5.3 in /opt/conda/lib/python3.12/site-packages (from langchain-core<0.3,>=0.1.50->langchain-ibm==0.1.7) (6.0.2)\n",
      "Requirement already satisfied: jsonpatch<2.0,>=1.33 in /opt/conda/lib/python3.12/site-packages (from langchain-core<0.3,>=0.1.50->langchain-ibm==0.1.7) (1.33)\n",
      "Requirement already satisfied: langsmith<0.2.0,>=0.1.112 in /home/jupyterlab/.local/lib/python3.12/site-packages (from langchain-core<0.3,>=0.1.50->langchain-ibm==0.1.7) (0.1.147)\n",
      "Requirement already satisfied: pydantic<3.0.0,>=2.7.4 in /opt/conda/lib/python3.12/site-packages (from langchain-core<0.3,>=0.1.50->langchain-ibm==0.1.7) (2.10.6)\n",
      "Requirement already satisfied: tenacity!=8.4.0,<9.0.0,>=8.1.0 in /home/jupyterlab/.local/lib/python3.12/site-packages (from langchain-core<0.3,>=0.1.50->langchain-ibm==0.1.7) (8.5.0)\n",
      "Requirement already satisfied: typing-extensions>=4.7 in /opt/conda/lib/python3.12/site-packages (from langchain-core<0.3,>=0.1.50->langchain-ibm==0.1.7) (4.12.2)\n",
      "Requirement already satisfied: ibm-cos-sdk-core==2.13.6 in /home/jupyterlab/.local/lib/python3.12/site-packages (from ibm-cos-sdk<2.14.0,>=2.12.0->ibm-watsonx-ai<2.0.0,>=1.0.1->langchain-ibm==0.1.7) (2.13.6)\n",
      "Requirement already satisfied: ibm-cos-sdk-s3transfer==2.13.6 in /home/jupyterlab/.local/lib/python3.12/site-packages (from ibm-cos-sdk<2.14.0,>=2.12.0->ibm-watsonx-ai<2.0.0,>=1.0.1->langchain-ibm==0.1.7) (2.13.6)\n",
      "Requirement already satisfied: jmespath<=1.0.1,>=0.10.0 in /home/jupyterlab/.local/lib/python3.12/site-packages (from ibm-cos-sdk<2.14.0,>=2.12.0->ibm-watsonx-ai<2.0.0,>=1.0.1->langchain-ibm==0.1.7) (1.0.1)\n",
      "Requirement already satisfied: python-dateutil<3.0.0,>=2.9.0 in /opt/conda/lib/python3.12/site-packages (from ibm-cos-sdk-core==2.13.6->ibm-cos-sdk<2.14.0,>=2.12.0->ibm-watsonx-ai<2.0.0,>=1.0.1->langchain-ibm==0.1.7) (2.9.0.post0)\n",
      "Requirement already satisfied: jsonpointer>=1.9 in /opt/conda/lib/python3.12/site-packages (from jsonpatch<2.0,>=1.33->langchain-core<0.3,>=0.1.50->langchain-ibm==0.1.7) (3.0.0)\n",
      "Requirement already satisfied: httpx<1,>=0.23.0 in /opt/conda/lib/python3.12/site-packages (from langsmith<0.2.0,>=0.1.112->langchain-core<0.3,>=0.1.50->langchain-ibm==0.1.7) (0.28.1)\n",
      "Requirement already satisfied: orjson<4.0.0,>=3.9.14 in /home/jupyterlab/.local/lib/python3.12/site-packages (from langsmith<0.2.0,>=0.1.112->langchain-core<0.3,>=0.1.50->langchain-ibm==0.1.7) (3.10.18)\n",
      "Requirement already satisfied: requests-toolbelt<2.0.0,>=1.0.0 in /home/jupyterlab/.local/lib/python3.12/site-packages (from langsmith<0.2.0,>=0.1.112->langchain-core<0.3,>=0.1.50->langchain-ibm==0.1.7) (1.0.0)\n",
      "Requirement already satisfied: numpy<2,>=1.26.0 in /home/jupyterlab/.local/lib/python3.12/site-packages (from pandas<2.2.0,>=0.24.2->ibm-watsonx-ai<2.0.0,>=1.0.1->langchain-ibm==0.1.7) (1.26.4)\n",
      "Requirement already satisfied: pytz>=2020.1 in /opt/conda/lib/python3.12/site-packages (from pandas<2.2.0,>=0.24.2->ibm-watsonx-ai<2.0.0,>=1.0.1->langchain-ibm==0.1.7) (2024.2)\n",
      "Requirement already satisfied: tzdata>=2022.1 in /home/jupyterlab/.local/lib/python3.12/site-packages (from pandas<2.2.0,>=0.24.2->ibm-watsonx-ai<2.0.0,>=1.0.1->langchain-ibm==0.1.7) (2025.2)\n",
      "Requirement already satisfied: annotated-types>=0.6.0 in /opt/conda/lib/python3.12/site-packages (from pydantic<3.0.0,>=2.7.4->langchain-core<0.3,>=0.1.50->langchain-ibm==0.1.7) (0.7.0)\n",
      "Requirement already satisfied: pydantic-core==2.27.2 in /opt/conda/lib/python3.12/site-packages (from pydantic<3.0.0,>=2.7.4->langchain-core<0.3,>=0.1.50->langchain-ibm==0.1.7) (2.27.2)\n",
      "Requirement already satisfied: charset-normalizer<4,>=2 in /opt/conda/lib/python3.12/site-packages (from requests->ibm-watsonx-ai<2.0.0,>=1.0.1->langchain-ibm==0.1.7) (3.4.1)\n",
      "Requirement already satisfied: idna<4,>=2.5 in /opt/conda/lib/python3.12/site-packages (from requests->ibm-watsonx-ai<2.0.0,>=1.0.1->langchain-ibm==0.1.7) (3.10)\n",
      "Requirement already satisfied: zipp>=3.20 in /opt/conda/lib/python3.12/site-packages (from importlib-metadata->ibm-watsonx-ai<2.0.0,>=1.0.1->langchain-ibm==0.1.7) (3.21.0)\n",
      "Requirement already satisfied: six>=1.10.0 in /opt/conda/lib/python3.12/site-packages (from lomond->ibm-watsonx-ai<2.0.0,>=1.0.1->langchain-ibm==0.1.7) (1.17.0)\n",
      "Requirement already satisfied: anyio in /opt/conda/lib/python3.12/site-packages (from httpx<1,>=0.23.0->langsmith<0.2.0,>=0.1.112->langchain-core<0.3,>=0.1.50->langchain-ibm==0.1.7) (4.8.0)\n",
      "Requirement already satisfied: httpcore==1.* in /opt/conda/lib/python3.12/site-packages (from httpx<1,>=0.23.0->langsmith<0.2.0,>=0.1.112->langchain-core<0.3,>=0.1.50->langchain-ibm==0.1.7) (1.0.7)\n",
      "Requirement already satisfied: h11<0.15,>=0.13 in /opt/conda/lib/python3.12/site-packages (from httpcore==1.*->httpx<1,>=0.23.0->langsmith<0.2.0,>=0.1.112->langchain-core<0.3,>=0.1.50->langchain-ibm==0.1.7) (0.14.0)\n",
      "Requirement already satisfied: sniffio>=1.1 in /opt/conda/lib/python3.12/site-packages (from anyio->httpx<1,>=0.23.0->langsmith<0.2.0,>=0.1.112->langchain-core<0.3,>=0.1.50->langchain-ibm==0.1.7) (1.3.1)\n",
      "Downloading langchain_ibm-0.1.7-py3-none-any.whl (9.8 kB)\n",
      "Installing collected packages: langchain-ibm\n",
      "Successfully installed langchain-ibm-0.1.7\n",
      "Requirement already satisfied: langchain-core==0.2.43 in /home/jupyterlab/.local/lib/python3.12/site-packages (0.2.43)\n",
      "Requirement already satisfied: PyYAML>=5.3 in /opt/conda/lib/python3.12/site-packages (from langchain-core==0.2.43) (6.0.2)\n",
      "Requirement already satisfied: jsonpatch<2.0,>=1.33 in /opt/conda/lib/python3.12/site-packages (from langchain-core==0.2.43) (1.33)\n",
      "Requirement already satisfied: langsmith<0.2.0,>=0.1.112 in /home/jupyterlab/.local/lib/python3.12/site-packages (from langchain-core==0.2.43) (0.1.147)\n",
      "Requirement already satisfied: packaging<25,>=23.2 in /opt/conda/lib/python3.12/site-packages (from langchain-core==0.2.43) (24.2)\n",
      "Requirement already satisfied: pydantic<3.0.0,>=2.7.4 in /opt/conda/lib/python3.12/site-packages (from langchain-core==0.2.43) (2.10.6)\n",
      "Requirement already satisfied: tenacity!=8.4.0,<9.0.0,>=8.1.0 in /home/jupyterlab/.local/lib/python3.12/site-packages (from langchain-core==0.2.43) (8.5.0)\n",
      "Requirement already satisfied: typing-extensions>=4.7 in /opt/conda/lib/python3.12/site-packages (from langchain-core==0.2.43) (4.12.2)\n",
      "Requirement already satisfied: jsonpointer>=1.9 in /opt/conda/lib/python3.12/site-packages (from jsonpatch<2.0,>=1.33->langchain-core==0.2.43) (3.0.0)\n",
      "Requirement already satisfied: httpx<1,>=0.23.0 in /opt/conda/lib/python3.12/site-packages (from langsmith<0.2.0,>=0.1.112->langchain-core==0.2.43) (0.28.1)\n",
      "Requirement already satisfied: orjson<4.0.0,>=3.9.14 in /home/jupyterlab/.local/lib/python3.12/site-packages (from langsmith<0.2.0,>=0.1.112->langchain-core==0.2.43) (3.10.18)\n",
      "Requirement already satisfied: requests<3,>=2 in /home/jupyterlab/.local/lib/python3.12/site-packages (from langsmith<0.2.0,>=0.1.112->langchain-core==0.2.43) (2.32.2)\n",
      "Requirement already satisfied: requests-toolbelt<2.0.0,>=1.0.0 in /home/jupyterlab/.local/lib/python3.12/site-packages (from langsmith<0.2.0,>=0.1.112->langchain-core==0.2.43) (1.0.0)\n",
      "Requirement already satisfied: annotated-types>=0.6.0 in /opt/conda/lib/python3.12/site-packages (from pydantic<3.0.0,>=2.7.4->langchain-core==0.2.43) (0.7.0)\n",
      "Requirement already satisfied: pydantic-core==2.27.2 in /opt/conda/lib/python3.12/site-packages (from pydantic<3.0.0,>=2.7.4->langchain-core==0.2.43) (2.27.2)\n",
      "Requirement already satisfied: anyio in /opt/conda/lib/python3.12/site-packages (from httpx<1,>=0.23.0->langsmith<0.2.0,>=0.1.112->langchain-core==0.2.43) (4.8.0)\n",
      "Requirement already satisfied: certifi in /opt/conda/lib/python3.12/site-packages (from httpx<1,>=0.23.0->langsmith<0.2.0,>=0.1.112->langchain-core==0.2.43) (2024.12.14)\n",
      "Requirement already satisfied: httpcore==1.* in /opt/conda/lib/python3.12/site-packages (from httpx<1,>=0.23.0->langsmith<0.2.0,>=0.1.112->langchain-core==0.2.43) (1.0.7)\n",
      "Requirement already satisfied: idna in /opt/conda/lib/python3.12/site-packages (from httpx<1,>=0.23.0->langsmith<0.2.0,>=0.1.112->langchain-core==0.2.43) (3.10)\n",
      "Requirement already satisfied: h11<0.15,>=0.13 in /opt/conda/lib/python3.12/site-packages (from httpcore==1.*->httpx<1,>=0.23.0->langsmith<0.2.0,>=0.1.112->langchain-core==0.2.43) (0.14.0)\n",
      "Requirement already satisfied: charset-normalizer<4,>=2 in /opt/conda/lib/python3.12/site-packages (from requests<3,>=2->langsmith<0.2.0,>=0.1.112->langchain-core==0.2.43) (3.4.1)\n",
      "Requirement already satisfied: urllib3<3,>=1.21.1 in /opt/conda/lib/python3.12/site-packages (from requests<3,>=2->langsmith<0.2.0,>=0.1.112->langchain-core==0.2.43) (2.3.0)\n",
      "Requirement already satisfied: sniffio>=1.1 in /opt/conda/lib/python3.12/site-packages (from anyio->httpx<1,>=0.23.0->langsmith<0.2.0,>=0.1.112->langchain-core==0.2.43) (1.3.1)\n"
     ]
    }
   ],
   "source": [
    "\n",
    "!pip install \"ibm-watsonx-ai==1.0.8\" --user\n",
    "!pip install \"langchain==0.2.11\" --user\n",
    "!pip install \"langchain-ibm==0.1.7\" --user\n",
    "!pip install \"langchain-core==0.2.43\" --user"
   ]
  },
  {
   "cell_type": "markdown",
   "metadata": {},
   "source": [
    "### Import required libraries\n"
   ]
  },
  {
   "cell_type": "markdown",
   "metadata": {},
   "source": [
    "After installing the libraries, you must restart your kernel by clicking the **Restart the kernel** icon.\n",
    "\n",
    "<img src=\"https://cf-courses-data.s3.us.cloud-object-storage.appdomain.cloud/6DtO5_X9SAK4tYJCnsre2w/restart-kernel.png\" width=\"80%\" alt=\"Restart kernel\">\n"
   ]
  },
  {
   "cell_type": "markdown",
   "metadata": {},
   "source": [
    "_It is recommended that you import all required libraries in one place (here):_\n"
   ]
  },
  {
   "cell_type": "code",
   "execution_count": 1,
   "metadata": {},
   "outputs": [],
   "source": [
    "# You can also use this section to suppress warnings generated by your code:\n",
    "def warn(*args, **kwargs):\n",
    "    pass\n",
    "import warnings\n",
    "warnings.warn = warn\n",
    "warnings.filterwarnings('ignore')\n",
    "\n",
    "# IBM WatsonX imports\n",
    "from ibm_watsonx_ai.foundation_models import Model\n",
    "from ibm_watsonx_ai.metanames import GenTextParamsMetaNames as GenParams\n",
    "from ibm_watsonx_ai.foundation_models.utils.enums import ModelTypes\n",
    "\n",
    "from langchain_ibm import WatsonxLLM\n",
    "from langchain_core.prompts import PromptTemplate, ChatPromptTemplate\n",
    "from langchain_core.output_parsers import StrOutputParser\n",
    "from langchain_core.runnables import RunnablePassthrough, RunnableSequence\n",
    "from langchain_core.messages import HumanMessage, SystemMessage\n",
    "from langchain.chains import LLMChain  # Still using this for backward compatibility"
   ]
  },
  {
   "cell_type": "markdown",
   "metadata": {},
   "source": [
    "### Set up the LLM\n"
   ]
  },
  {
   "cell_type": "markdown",
   "metadata": {},
   "source": [
    "In this section, you will build an LLM using IBM watsonx.ai. The following code initializes a Granite model on IBM's watsonx.ai platform and wraps it into a function that allows for repeat use.\n"
   ]
  },
  {
   "cell_type": "markdown",
   "metadata": {},
   "source": [
    "Some key parameters are explained here:\n",
    "- `model_id` specifies which model you want to use. There are various model options available; refer to the [Foundation Models](https://ibm.github.io/watsonx-ai-python-sdk/foundation_models.html) documentation for more options. In this tutorial, you'll use the `granite-3-2-8b-instruct` model.\n",
    "- `parameters` define the model's configuration. Set five commonly used parameters for this tutorial. To explore additional commonly used parameters, you can run the code `GenParams().get_example_values()`. If no custom parameters are passed to the function, the model will use `default_params`.\n",
    "- `credentials` and `project_id` are required to successfully run LLMs from watsonx.ai. (Leave `credentials` and `project_id` as they are so you don't need to create your own keys to run models.) This ensures you can run the model inside this lab environment. However, if you want to run the model locally, refer to this [tutorial](https://medium.com/the-power-of-ai/ibm-watsonx-ai-the-interface-and-api-e8e1c7227358) for creating your own keys.\n",
    "- `WatsonxLLM()` is used to create an instance of the LLM.\n"
   ]
  },
  {
   "cell_type": "markdown",
   "metadata": {},
   "source": [
    "## API Disclaimer\n",
    "This lab uses LLMs provided by **Watsonx.ai**. This environment has been configured to allow LLM use without API keys so you can prompt them for **free (with limitations)**. With that in mind, if you wish to run this notebook **locally outside** of Skills Network's JupyterLab environment, you will have to **configure your own API keys**. Please note that using your own API keys means that you will incur personal charges.\n",
    "\n",
    "### Running Locally\n",
    "If you are running this lab locally, you will need to configure your own API keys. This lab uses the `WatsonxLLM` module from `IBM`, we'll need to initialize the `granite_llm` with credentials to use the LLM locally. Fill out the commented out `api_key` field in the cell below and pass in the credentials if you are running locally.\n"
   ]
  },
  {
   "cell_type": "markdown",
   "metadata": {},
   "source": [
    "##### Run the following code to initialize the LLM locally. If you are using Skills Network's JupyterLab environment, skip the following cell code.\n"
   ]
  },
  {
   "cell_type": "code",
   "execution_count": 2,
   "metadata": {},
   "outputs": [],
   "source": [
    "def llm_model(prompt_txt, params=None):\n",
    "    \n",
    "    model_id = \"ibm/granite-3-2-8b-instruct\"\n",
    "\n",
    "    default_params = {\n",
    "        \"max_new_tokens\": 256,\n",
    "        \"min_new_tokens\": 0,\n",
    "        \"temperature\": 0.5,\n",
    "        \"top_p\": 0.2,\n",
    "        \"top_k\": 1\n",
    "    }\n",
    "\n",
    "    if params:\n",
    "        default_params.update(params)\n",
    "\n",
    "    # Set up credentials for WatsonxLLM\n",
    "    url = \"https://us-south.ml.cloud.ibm.com\"\n",
    "    api_key = \"your api key here\"\n",
    "    project_id = \"skills-network\"\n",
    "\n",
    "    credentials = {\n",
    "        \"url\": url,\n",
    "        # \"api_key\": api_key\n",
    "        # uncomment the field above and replace the api_key with your actual Watsonx API key\n",
    "    }\n",
    "    \n",
    "    # Create LLM directly\n",
    "    granite_llm = WatsonxLLM(\n",
    "        model_id=model_id,\n",
    "        credentials=credentials,\n",
    "        project_id=project_id,\n",
    "        params=default_params\n",
    "    )\n",
    "    \n",
    "    response = granite_llm.invoke(prompt_txt)\n",
    "    return response"
   ]
  },
  {
   "cell_type": "markdown",
   "metadata": {},
   "source": [
    "##### Run the following code to initialize the LLM using Skills Network's JupyterLab environment\n"
   ]
  },
  {
   "cell_type": "code",
   "execution_count": 3,
   "metadata": {},
   "outputs": [],
   "source": [
    "def llm_model(prompt_txt, params=None):\n",
    "    \n",
    "    model_id = \"ibm/granite-3-2-8b-instruct\"\n",
    "\n",
    "    if params == None:\n",
    "        default_params = {\n",
    "            \"max_new_tokens\": 256,\n",
    "            \"min_new_tokens\": 0,\n",
    "            \"temperature\": 0.5,\n",
    "            \"top_p\": 0.2,\n",
    "            \"top_k\": 1\n",
    "        }\n",
    "    else:\n",
    "        default_params = params\n",
    "\n",
    "    url = \"https://us-south.ml.cloud.ibm.com\"\n",
    "    project_id = \"skills-network\"\n",
    "    \n",
    "    granite_llm = WatsonxLLM(\n",
    "        model_id=model_id,\n",
    "        project_id=project_id,\n",
    "        url=url,\n",
    "        params=default_params\n",
    "    )\n",
    "    \n",
    "    response = granite_llm.invoke(prompt_txt)\n",
    "    return response\n"
   ]
  },
  {
   "cell_type": "markdown",
   "metadata": {},
   "source": [
    "Let's run the following code to see some other commonly used parameters and their default values.\n"
   ]
  },
  {
   "cell_type": "code",
   "execution_count": 3,
   "metadata": {},
   "outputs": [
    {
     "data": {
      "text/plain": [
       "{'decoding_method': 'sample',\n",
       " 'length_penalty': {'decay_factor': 2.5, 'start_index': 5},\n",
       " 'temperature': 0.5,\n",
       " 'top_p': 0.2,\n",
       " 'top_k': 1,\n",
       " 'random_seed': 33,\n",
       " 'repetition_penalty': 2,\n",
       " 'min_new_tokens': 50,\n",
       " 'max_new_tokens': 200,\n",
       " 'stop_sequences': ['fail'],\n",
       " ' time_limit': 600000,\n",
       " 'truncate_input_tokens': 200,\n",
       " 'prompt_variables': {'object': 'brain'},\n",
       " 'return_options': {'input_text': True,\n",
       "  'generated_tokens': True,\n",
       "  'input_tokens': True,\n",
       "  'token_logprobs': True,\n",
       "  'token_ranks': False,\n",
       "  'top_n_tokens': False}}"
      ]
     },
     "execution_count": 3,
     "metadata": {},
     "output_type": "execute_result"
    }
   ],
   "source": [
    "GenParams().get_example_values()"
   ]
  },
  {
   "cell_type": "markdown",
   "metadata": {},
   "source": [
    "## Prompt engineering\n",
    "\n",
    "[Prompt engineering](https://www.ibm.com/think/topics/prompt-engineering?utm_source=skills_network&utm_content=in_lab_content_link&utm_id=Lab-In-Context+Learning+and+Prompt+Templates-v3-GenAIcourse_1741386184) is the art and science of crafting effective inputs for large language models to generate desired outputs. As language models have evolved in capability and size, so too has the importance of how we communicate with them. Prompt engineering involves strategically designing text prompts that guide an AI model's responses toward specific goals, formats, or reasoning patterns.\n",
    "\n",
    "**[In-context learning](https://research.ibm.com/blog/demystifying-in-context-learning-in-large-language-model?utm_source=skills_network&utm_content=in_lab_content_link&utm_id=Lab-In-Context+Learning+and+Prompt+Templates-v3-GenAIcourse_1741386184)** represents one of the most fascinating capabilities of modern large language models. It is a model's ability to \"learn\" from examples provided directly within the prompt itself, without any updates to its underlying parameters or weights. This capability allows models to adapt to new tasks or domains simply by demonstrating what success looks like through examples.\n",
    "\n",
    "By combining the principles of prompt engineering with the power of in-context learning, developers can guide language models to perform a remarkably diverse range of tasks with unprecedented flexibility and efficiency. Let's now explore these methods in detail.\n"
   ]
  },
  {
   "cell_type": "markdown",
   "metadata": {},
   "source": [
    "### Basic prompt\n",
    "\n",
    "A **basic prompt** is the simplest form of prompting, where you provide a short text or phrase to the model without any special formatting or instructions. The model generates a continuation based on patterns it has learned during training. Basic prompts are useful for exploring the model's capabilities and understanding how it naturally responds to minimal input.\n"
   ]
  },
  {
   "cell_type": "markdown",
   "metadata": {},
   "source": [
    "In this example, let's introduce a basic prompt that uses specific parameters to guide the language model's response. You'll then define a simple prompt and retrieve the model's response.\n",
    "\n",
    "The prompt used is \"The wind is.\" Let the model generate itself.\n"
   ]
  },
  {
   "cell_type": "code",
   "execution_count": 4,
   "metadata": {},
   "outputs": [
    {
     "name": "stdout",
     "output_type": "stream",
     "text": [
      "prompt: The wind is\n",
      "\n",
      "response :  a powerful force that can significantly impact our lives. From shaping landscapes to influencing weather patterns, wind plays a crucial role in our world. In this discussion, we will explore various aspects of wind, including its causes, effects, and applications.\n",
      "\n",
      "Firstly, let's delve into the causes of wind. Wind is primarily caused by differences in atmospheric pressure, which in turn are driven by the uneven heating of the Earth's surface by the\n",
      "\n"
     ]
    }
   ],
   "source": [
    "params = {\n",
    "    \"max_new_tokens\": 100,\n",
    "    \"min_new_tokens\": 1,\n",
    "    \"temperature\": 0.9,\n",
    "    \"top_p\": 0.9,\n",
    "    \"top_k\": 50\n",
    "}\n",
    "\n",
    "prompt = \"The wind is\"\n",
    "\n",
    "# Getting a reponse from the model with the provided prompt and new parameters\n",
    "response = llm_model(prompt, params)\n",
    "print(f\"prompt: {prompt}\\n\")\n",
    "print(f\"response : {response}\\n\")"
   ]
  },
  {
   "cell_type": "markdown",
   "metadata": {},
   "source": [
    "As you can see from the response, the model continues generating content based on the initial prompt, \"The wind is.\" You might notice that the response appears truncated or incomplete. This is because you have set the `max_new_tokens,` which restricts the number of tokens the model can generate.\n",
    "\n",
    "Try adjusting the parameters and observe how the response changes.\n"
   ]
  },
  {
   "cell_type": "markdown",
   "metadata": {},
   "source": [
    "### Exercise 1\n",
    "Experiment with different basic prompts by changing the input phrase. Try these prompts and compare the different responses:\n",
    "1. \"The future of artificial intelligence is\"\n",
    "2. \"Once upon a time in a distant galaxy\"\n",
    "3. \"The benefits of sustainable energy include\"\n"
   ]
  },
  {
   "cell_type": "code",
   "execution_count": 24,
   "metadata": {},
   "outputs": [
    {
     "name": "stdout",
     "output_type": "stream",
     "text": [
      "The benefits of sustainable energy include\n",
      ":\n",
      "\n",
      "1. Reduced greenhouse gas emissions: Sustainable energy sources like solar, wind, and hydroelectric power produce little to no greenhouse gas emissions, helping to mitigate climate change.\n",
      "\n",
      "2. Energy independence: Countries can reduce their dependence on imported fossil fuels by developing their own renewable energy resources, enhancing energy security.\n",
      "\n",
      "3. Job creation: The renewable energy sector is labor-\n"
     ]
    }
   ],
   "source": [
    "params = {\n",
    "    \"max_new_tokens\": 100,\n",
    "    \"temperature\": 0.0,\n",
    "}\n",
    "\n",
    "prompt = \"The benefits of sustainable energy include\"\n",
    "response = llm_model(prompt, params)\n",
    "\n",
    "print(f\"{prompt}\")\n",
    "print(f\"{response}\")"
   ]
  },
  {
   "cell_type": "markdown",
   "metadata": {},
   "source": [
    "<details>\n",
    "    <summary>Click here for hints</summary>\n",
    "\n",
    "```python\n",
    "params = {\n",
    "    \"max_new_tokens\": 128, # Try 256 or 512 for more detailed answers\n",
    "    \"min_new_tokens\": 10, # Increase to 25-50 if you want more substantial answers\n",
    "    \"temperature\": 0.5, # Controls randomness in generation (0.0-1.0)\n",
    "                       # Lower (0.1-0.3): More focused, consistent, factual responses\n",
    "                      # Higher (0.7-1.0): More creative, diverse, unpredictable outputs\n",
    "    \"top_p\": 0.2, # Nucleus sampling - considers only highest probability tokens\n",
    "                       # Lower values (0.1-0.3): More conservative, focused text\n",
    "                       # Higher values (0.7-0.9): More diverse vocabulary and ideas\n",
    "    \"top_k\": 1 # Limits token selection to top k most likely tokens\n",
    "                       # 1 = greedy decoding (always picks most likely token)\n",
    "                       # Try 40-50 for more varied outputs\n",
    "}\n",
    "\n",
    "# Compare responses to different prompts\n",
    "prompts = [\n",
    "    \"The future of artificial intelligence is\",\n",
    "    \"Once upon a time in a distant galaxy\",\n",
    "    \"The benefits of sustainable energy include\"\n",
    "]\n",
    "\n",
    "for prompt in prompts:\n",
    "    response = llm_model(prompt, params)\n",
    "    print(f\"prompt: {prompt}\\n\")\n",
    "    print(f\"response : {response}\\n\")\n",
    "```\n",
    "</details>\n"
   ]
  },
  {
   "cell_type": "markdown",
   "metadata": {},
   "source": [
    "### Zero-shot prompt\n",
    "\n",
    "[**Zero-shot prompting**](https://www.ibm.com/think/topics/zero-shot-prompting?utm_source=skills_network&utm_content=in_lab_content_link&utm_id=Lab-In-Context+Learning+and+Prompt+Templates-v3-GenAIcourse_1741386184) is a technique where the model performs a task without any examples or prior specific training on that task. This approach tests the model's ability to understand instructions and apply its knowledge to a new context without demonstration. Zero-shot prompts typically include clear instructions about what the model should do, allowing it to leverage its pre-trained knowledge effectively.\n"
   ]
  },
  {
   "cell_type": "markdown",
   "metadata": {},
   "source": [
    "---\n",
    "Here is an example of a zero-shot prompt:\n",
    "\n",
    "Zero-shot learning is crucial for testing a model's ability to apply its pre-trained knowledge to new, unseen tasks without additional training. This capability is valuable for gauging the model's generalization skills.\n",
    "\n",
    "In this example, let's demonstrate a zero-shot learning scenario using a prompt that asks the model to classify a statement without any prior specific training on similar tasks. The prompt requests the model to assess the truthfulness of the statement: \"The Eiffel Tower is located in Berlin.\" After defining the prompt, you'll execute it with default parameters and print the response.\n",
    "\n",
    "This approach helps you understand how well the model can handle direct questions based on its underlying knowledge and reasoning abilities.\n"
   ]
  },
  {
   "cell_type": "markdown",
   "metadata": {},
   "source": [
    "Try running the prompt to see the model's capacity to correctly analyze and respond to factual inaccuracies.\n"
   ]
  },
  {
   "cell_type": "code",
   "execution_count": 25,
   "metadata": {},
   "outputs": [
    {
     "name": "stdout",
     "output_type": "stream",
     "text": [
      "prompt: Classify the following statement as true or false: \n",
      "            'The Eiffel Tower is located in Berlin.'\n",
      "\n",
      "            Answer:\n",
      "\n",
      "\n",
      "response : \n",
      "False. The Eiffel Tower is located in Paris, France.\n",
      "\n"
     ]
    }
   ],
   "source": [
    "prompt = \"\"\"Classify the following statement as true or false: \n",
    "            'The Eiffel Tower is located in Berlin.'\n",
    "\n",
    "            Answer:\n",
    "\"\"\"\n",
    "response = llm_model(prompt)\n",
    "print(f\"prompt: {prompt}\\n\")\n",
    "print(f\"response : {response}\\n\")"
   ]
  },
  {
   "cell_type": "markdown",
   "metadata": {},
   "source": [
    "The model responds with the 'False' answer, which is correct. It also gives the reason for the answer.\n"
   ]
  },
  {
   "cell_type": "markdown",
   "metadata": {},
   "source": [
    "### Exercise 2\n",
    "Create zero-shot prompts for the following tasks:\n",
    "1. Write a prompt that asks the model to classify a movie review as positive or negative.\n",
    "2. Create a prompt that instructs the model to summarize a paragraph about climate change.\n",
    "3. Design a prompt that asks the model to translate an English phrase to Spanish without showing any examples.\n"
   ]
  },
  {
   "cell_type": "code",
   "execution_count": 29,
   "metadata": {},
   "outputs": [
    {
     "name": "stdout",
     "output_type": "stream",
     "text": [
      "=== MOVIE_REVIEW RESPONSE ===\n",
      "\n",
      "\n",
      "Negative. The review expresses dissatisfaction with certain aspects of the movie, such as the rushed plot and the lack of a well-developed villain. The reviewer also mentions that they cannot watch the movie again, indicating a lack of enjoyment.\n",
      "\n",
      "=== CLIMATE_CHANGE RESPONSE ===\n",
      "\n",
      "\n",
      "Climate change denotes long-term alterations in temperature and weather patterns, which can be natural but are predominantly human-induced since the 1800s. This is mainly due to the combustion of fossil fuels such as coal, oil, and gas, which emit greenhouse gases. These gases, primarily carbon dioxide and methane, act as a blanket around Earth, trapping heat and elevating temperatures. Human activities like driving cars, heating buildings with coal, deforestation, and agricultural practices contribute significantly to these emissions. Key sectors responsible for greenhouse gas emissions include energy, industry, transport, buildings, agriculture, and land use.\n",
      "\n",
      "=== TRANSLATION RESPONSE ===\n",
      "\n",
      "\n",
      "The phrase is in Spanish, not Portuguese. Here's the translation:\n",
      "\n",
      "\"At the weekend party, only good role. She swings and descends with a very loose step... very loose step... very loose step.\"\n",
      "\n",
      "The phrase seems to be describing a dance or movement at a party, with the speaker emphasizing the loose and free nature of the dancer's steps.\n",
      "\n"
     ]
    }
   ],
   "source": [
    "## Starter code: provide your solutions in the TODO parts\n",
    "\n",
    "# 1. Prompt for Movie Review Classification\n",
    "movie_review_prompt = \"\"\"Classify this movie review as positive or negative: \n",
    "'Moana was decent however it felt very rushed. They could have taken the time to thicken the plot a little more\n",
    "instead of skipping through everything. They even could have made the villain real but instead they had\n",
    "Moana fighting tornados and clouds etc. It was okay but I can't watch it again sorry.'\"\"\"\n",
    "\n",
    "# 2. Prompt for Climate Change Paragraph Summarization\n",
    "climate_change_prompt = \"\"\"Summarise this paragraph about climate change: \n",
    "'Climate change refers to long-term shifts in temperatures and weather patterns. Such shifts can be natural, due to changes in the sun’s activity or large volcanic eruptions. But since the 1800s, human activities have been the main driver of climate change, primarily due to the burning of fossil fuels like coal, oil and gas.\n",
    "\n",
    "Burning fossil fuels generates greenhouse gas emissions that act like a blanket wrapped around the Earth, trapping the sun’s heat and raising temperatures.\n",
    "\n",
    "The main greenhouse gases that are causing climate change include carbon dioxide and methane. These come from using gasoline for driving a car or coal for heating a building, for example. Clearing land and cutting down forests can also release carbon dioxide. Agriculture, oil and gas operations are major sources of methane emissions. Energy, industry, transport, buildings, agriculture and land use are among the main sectors causing greenhouse gases.'\"\"\"\n",
    "\n",
    "# 3. Prompt for English to Spanish Translation\n",
    "translation_prompt = \"\"\"Translate this phrase from whatever language to ENglish. State the language as well. If it is not portugues state why not:\n",
    "'Na festa do fim de semana, so role bom. Ella chenga e descencana com paso bem solto.. paso bem solto.. paso bem solto'\"\"\"\n",
    "\n",
    "responses = {}\n",
    "responses[\"movie_review\"] = llm_model(movie_review_prompt)\n",
    "responses[\"climate_change\"] = llm_model(climate_change_prompt)\n",
    "responses[\"translation\"] = llm_model(translation_prompt)\n",
    "\n",
    "for prompt_type, response in responses.items():\n",
    "    print(f\"=== {prompt_type.upper()} RESPONSE ===\")\n",
    "    print(response)\n",
    "    print()"
   ]
  },
  {
   "cell_type": "markdown",
   "metadata": {},
   "source": [
    "<details>\n",
    "    <summary>Click here for hints</summary>\n",
    "\n",
    "```python\n",
    "# 1. Prompt for Movie Review Classification\n",
    "movie_review_prompt = \"\"\"\n",
    "Classify the following movie review as either 'positive' or 'negative'.\n",
    "\n",
    "Review: \"I was extremely disappointed by this film. The plot was predictable, the acting was wooden, and the special effects looked cheap. I can't recommend this to anyone.\"\n",
    "\n",
    "Classification:\n",
    "\"\"\"\n",
    "\n",
    "# 2. Prompt for Climate Change Paragraph Summarization\n",
    "climate_change_prompt = \"\"\"\n",
    "Summarize the following paragraph about climate change in no more than two sentences.\n",
    "\n",
    "Paragraph: \"Climate change refers to long-term shifts in temperatures and weather patterns. These shifts may be natural, but since the 1800s, human activities have been the main driver of climate change, primarily due to the burning of fossil fuels like coal, oil and gas, which produces heat-trapping gases. The consequences of climate change include more frequent and severe droughts, storms, and heat waves, rising sea levels, melting glaciers, and warming oceans which can directly impact biodiversity, agriculture, and human health.\"\n",
    "\n",
    "Summary:\n",
    "\"\"\"\n",
    "\n",
    "# 3. Prompt for English to Spanish Translation\n",
    "translation_prompt = \"\"\"\n",
    "Translate the following English phrase into Spanish.\n",
    "\n",
    "English: \"I would like to order a coffee with milk and two sugars, please.\"\n",
    "\n",
    "Spanish:\n",
    "\"\"\"\n",
    "\n",
    "responses = {}\n",
    "responses[\"movie_review\"] = llm_model(movie_review_prompt)\n",
    "responses[\"climate_change\"] = llm_model(climate_change_prompt)\n",
    "responses[\"translation\"] = llm_model(translation_prompt)\n",
    "\n",
    "for prompt_type, response in responses.items():\n",
    "    print(f\"=== {prompt_type.upper()} RESPONSE ===\")\n",
    "    print(response)\n",
    "    print()\n",
    "```\n",
    "</details>\n"
   ]
  },
  {
   "cell_type": "markdown",
   "metadata": {},
   "source": [
    "### One-shot prompt\n",
    "\n",
    "[**One-shot prompting**](https://www.ibm.com/think/topics/one-shot-prompting?utm_source=skills_network&utm_content=in_lab_content_link&utm_id=Lab-In-Context+Learning+and+Prompt+Templates-v3-GenAIcourse_1741386184) provides the model with a **single** example of the task before asking it to perform a similar task. This technique gives the model a pattern to follow, improving its understanding of the desired output format and style. One-shot learning is particularly useful when you want to guide the model's response without extensive examples.\n"
   ]
  },
  {
   "cell_type": "markdown",
   "metadata": {},
   "source": [
    "Here is a one-shot learning example where the model is given a single example to help guide its translation from English to French.\n",
    "\n",
    "The prompt provides a sample translation pairing, \"How is the weather today?\" translated to \"Comment est le temps aujourd'hui?\" This example serves as a guide for the model to understand the task context and desired format. The model is then tasked with translating a new sentence, \"Where is the nearest supermarket?\" without further guidance.\n"
   ]
  },
  {
   "cell_type": "code",
   "execution_count": 30,
   "metadata": {},
   "outputs": [
    {
     "name": "stdout",
     "output_type": "stream",
     "text": [
      "prompt: Here is an example of translating a sentence from English to French:\n",
      "\n",
      "            English: “How is the weather today?”\n",
      "            French: “Comment est le temps aujourd'hui?”\n",
      "            \n",
      "            Now, translate the following sentence from English to French:\n",
      "            \n",
      "            English: “Where is the nearest supermarket?”\n",
      "            \n",
      "\n",
      "\n",
      "response : French: “Où est le supermarché le plus proche?”\n",
      "\n",
      "\n",
      "\n"
     ]
    }
   ],
   "source": [
    "params = {\n",
    "    \"max_new_tokens\": 20,\n",
    "    \"temperature\": 0.1,\n",
    "}\n",
    "\n",
    "prompt = \"\"\"Here is an example of translating a sentence from English to French:\n",
    "\n",
    "            English: “How is the weather today?”\n",
    "            French: “Comment est le temps aujourd'hui?”\n",
    "            \n",
    "            Now, translate the following sentence from English to French:\n",
    "            \n",
    "            English: “Where is the nearest supermarket?”\n",
    "            \n",
    "\"\"\"\n",
    "response = llm_model(prompt, params)\n",
    "print(f\"prompt: {prompt}\\n\")\n",
    "print(f\"response : {response}\\n\")"
   ]
  },
  {
   "cell_type": "markdown",
   "metadata": {},
   "source": [
    "The model's response shows how it applies the structure and context provided by the initial example to translate the new sentence.\n"
   ]
  },
  {
   "cell_type": "markdown",
   "metadata": {},
   "source": [
    "Consider experimenting with different sentences or adjusting the parameters to see how these changes impact the model's translations.\n"
   ]
  },
  {
   "cell_type": "markdown",
   "metadata": {},
   "source": [
    "### Exercise 3\n",
    "Develop one-shot prompts for these scenarios:\n",
    "1. Create a prompt with one example of a formal email, then ask the model to write another formal email on a different topic.\n",
    "2. Provide one example of converting a technical concept into a simple explanation, then ask the model to explain a different concept.\n",
    "3. Give one example of extracting keywords from a sentence, then ask the model to extract keywords from a new sentence.\n"
   ]
  },
  {
   "cell_type": "code",
   "execution_count": 34,
   "metadata": {},
   "outputs": [
    {
     "name": "stdout",
     "output_type": "stream",
     "text": [
      "=== FORMAL_EMAIL RESPONSE ===\n",
      ".\n",
      "\n",
      "123 Elm Ave.\n",
      "Treesville, ON M1N 2P3\n",
      "November 7, 2016\n",
      "\n",
      "Dear [Recipient's Name],\n",
      "\n",
      "I hope this message finds you well. I am writing to discuss my current salary as an employee of [Company Name].\n",
      "\n",
      "Over the past year, I have been dedicated to my role and have consistently met and exceeded the expectations set for my position. I have taken on additional responsibilities, improved processes, and contributed significantly to the overall success of our team.\n",
      "\n",
      "Given my commitment and the value I bring to the company, I would like to kindly request a review of my current salary. Specifically, I am seeking an increase from $10,000 TTD to at least $11,000 TTD. I believe this adjustment is warranted based on my performance, the evolving market rates for my role, and the contributions I have made to the company.\n",
      "\n",
      "I am confident that my continued dedication and the enhanced productivity that this increase would enable will further benefit [Company Name]. I am open to discussing this matter further and am willing to provide any additional information or\n",
      "\n",
      "=== TECHNICAL_CONCEPT RESPONSE ===\n",
      " in simple terms:\n",
      "\n",
      "Being the most attractive man on the planet involves a combination of inner and outer qualities. Here's a simple breakdown:\n",
      "\n",
      "1. Confidence: Believe in yourself and your abilities. This shows in your posture, eye contact, and how you carry yourself.\n",
      "\n",
      "2. Kindness: Treat others with respect and empathy. This makes you approachable and likable.\n",
      "\n",
      "3. Intelligence: Keep learning and expanding your knowledge. This shows in your conversations and decisions.\n",
      "\n",
      "4. Humor: A good sense of humor can lighten the mood and make you more enjoyable to be around.\n",
      "\n",
      "5. Style: Dress well and take care of your appearance. This doesn't mean you have to follow the latest trends, but rather that you present yourself neatly and appropriately.\n",
      "\n",
      "6. Authenticity: Be true to yourself. People are attracted to genuine individuals who know who they are and what they want.\n",
      "\n",
      "7. Ambition: Have goals and work towards them. This shows drive and determination, which are attractive qualities.\n",
      "\n",
      "8. Listening: Pay attention to others when they\n",
      "\n",
      "=== KEYWORD_EXTRACTION RESPONSE ===\n",
      " Keywords: 'One million USD, per year, thirty years old'\n",
      "\n"
     ]
    }
   ],
   "source": [
    "## Starter code: provide your solutions in the TODO parts\n",
    "\n",
    "# 1. One-shot prompt for formal email writing\n",
    "formal_email_prompt = \"\"\"Here is an example of a formal email:\n",
    "                            123 Elm Ave.\n",
    "Treesville, ON M1N 2P3\n",
    "November 7, 2016\n",
    "\n",
    " \n",
    "\n",
    "Mr. M. Leaf\n",
    "Chief of Syrup Production\n",
    "Old Sticky Pancake Company\n",
    "456 Maple Lane\n",
    "Forest, ON 7W8 9Y0\n",
    "\n",
    "Dear Mr. Leaf:\n",
    "\n",
    "Let me begin by thanking you for your past contributions to our Little League baseball team. Your sponsorship aided in the purchase of ten full uniforms and several pieces of baseball equipment for last year's season.\n",
    "\n",
    "Next month, our company is planning an employee appreciation pancake breakfast honoring retired employees for their past years of service and present employees for their loyalty and dedication in spite of the current difficult economic conditions.\n",
    "\n",
    "We would like to place an order with your company for 25 pounds of pancake mix and five gallons of maple syrup. We hope you will be able to provide these products in the bulk quantities we require.\n",
    "\n",
    "As you are a committed corporate sponsor and long-time associate, we hope that you will be able to join us for breakfast on December 12, 2016.\n",
    "\n",
    "Respectfully yours,\n",
    "\n",
    " \n",
    "\n",
    "Derek Jeter\n",
    "\n",
    "Now, write a formal email negotiating an increase in salaray from $10000 TTD to at least $11000 TTD\"\"\"\n",
    "\n",
    "# 2. One-shot prompt for simplifying technical concepts\n",
    "technical_concept_prompt = \"\"\" Here is an example of simplifying a technical concept into simple explanation: \n",
    " Technical concept: NLP or Natural Language Processing, is a process by which we convert Unstructured Language into Structured Language\n",
    "\n",
    " Simplification: Natural Language Processing converts the way we speak\n",
    " into a form that a computer can understand\"\n",
    "\n",
    " Now, explain how to be the most attractive man on the planet\"\"\"\n",
    "# 3. One-shot prompt for keyword extraction\n",
    "keyword_extraction_prompt = \"\"\"Here is an example of pulling out keywords from a sentence:\n",
    "\n",
    "Sentence: 'One shot prompting is a method by which an LLM is given one example of the given task'\n",
    "Keywords: 'One-shot, prompting, LLM, example'\n",
    "---\n",
    "Now extract the keywrods from the following sentence:\n",
    "\n",
    "Sentence: 'I will make One million USD per year by the time or before I am thirty years old'\n",
    "\n",
    "\"\"\"\n",
    "responses = {}\n",
    "responses[\"formal_email\"] = llm_model(formal_email_prompt)\n",
    "responses[\"technical_concept\"] = llm_model(technical_concept_prompt)\n",
    "responses[\"keyword_extraction\"] = llm_model(keyword_extraction_prompt)\n",
    "\n",
    "for prompt_type, response in responses.items():\n",
    "    print(f\"=== {prompt_type.upper()} RESPONSE ===\")\n",
    "    print(response)\n",
    "    print()"
   ]
  },
  {
   "cell_type": "markdown",
   "metadata": {
    "editable": true,
    "slideshow": {
     "slide_type": ""
    },
    "tags": []
   },
   "source": [
    "<details>\n",
    "    <summary>Click here for hints</summary>\n",
    "\n",
    "```python\n",
    "# 1. One-shot prompt for formal email writing\n",
    "formal_email_prompt = \"\"\"\n",
    "Here is an example of a formal email requesting information:\n",
    "\n",
    "Subject: Inquiry Regarding Product Specifications for Model XYZ-100\n",
    "\n",
    "Dear Customer Support Team,\n",
    "\n",
    "I hope this email finds you well. I am writing to request detailed specifications for your product Model XYZ-100. Specifically, I am interested in learning about its dimensions, power requirements, and compatibility with third-party accessories.\n",
    "\n",
    "Could you please provide this information at your earliest convenience? Additionally, I would appreciate any available documentation or user manuals that you could share.\n",
    "\n",
    "Thank you for your assistance in this matter.\n",
    "\n",
    "Sincerely,\n",
    "John Smith\n",
    "\n",
    "---\n",
    "\n",
    "Now, please write a formal email to a university admissions office requesting information about their application deadline and required documents for the Master's program in Computer Science:\n",
    "\n",
    "\"\"\"\n",
    "\n",
    "# 2. One-shot prompt for simplifying technical concepts\n",
    "technical_concept_prompt = \"\"\"\n",
    "Here is an example of explaining a technical concept in simple terms:\n",
    "\n",
    "Technical Concept: Blockchain\n",
    "Simple Explanation: A blockchain is like a digital notebook that many people have copies of. When someone writes a new entry in this notebook, everyone's copy gets updated. Once something is written, it can't be erased or changed, and everyone can see who wrote what. This makes it useful for recording important information that needs to be secure and trusted by everyone.\n",
    "\n",
    "---\n",
    "\n",
    "Now, please explain the following technical concept in simple terms:\n",
    "\n",
    "Technical Concept: Machine Learning\n",
    "Simple Explanation:\n",
    "\"\"\"\n",
    "\n",
    "# 3. One-shot prompt for keyword extraction\n",
    "keyword_extraction_prompt = \"\"\"\n",
    "Here is an example of extracting keywords from a sentence:\n",
    "\n",
    "Sentence: \"Cloud computing offers businesses flexibility, scalability, and cost-efficiency for their IT infrastructure needs.\"\n",
    "Keywords: cloud computing, flexibility, scalability, cost-efficiency, IT infrastructure\n",
    "\n",
    "---\n",
    "\n",
    "Now, please extract the main keywords from the following sentence:\n",
    "\n",
    "Sentence: \"Sustainable agriculture practices focus on biodiversity, soil health, water conservation, and reducing chemical inputs.\"\n",
    "Keywords:\n",
    "\"\"\"\n",
    "\n",
    "responses = {}\n",
    "responses[\"formal_email\"] = llm_model(formal_email_prompt)\n",
    "responses[\"technical_concept\"] = llm_model(technical_concept_prompt)\n",
    "responses[\"keyword_extraction\"] = llm_model(keyword_extraction_prompt)\n",
    "\n",
    "for prompt_type, response in responses.items():\n",
    "    print(f\"=== {prompt_type.upper()} RESPONSE ===\")\n",
    "    print(response)\n",
    "    print()\n",
    "```\n",
    "</details>\n"
   ]
  },
  {
   "cell_type": "markdown",
   "metadata": {},
   "source": [
    "### Few-shot prompt\n",
    "\n",
    "[**Few-shot prompting**](https://www.ibm.com/think/topics/few-shot-prompting?utm_source=skills_network&utm_content=in_lab_content_link&utm_id=Lab-In-Context+Learning+and+Prompt+Templates-v3-GenAIcourse_1741386184) extends the one-shot approach by providing multiple examples (typically 2-5) before asking the model to perform the task. These examples establish a clearer pattern and context, helping the model better understand the expected output format, style, and reasoning. This technique is particularly effective for complex tasks where a single example might not convey all the nuances.\n"
   ]
  },
  {
   "cell_type": "markdown",
   "metadata": {},
   "source": [
    "Here is an example of few-shot learning by classifying emotions from text statements. \n",
    "\n",
    "Let's provide the model with three examples, each labeled with an appropriate emotion—joy, frustration, and sadness—to establish a pattern or guideline on how to categorize emotions in statements.\n",
    "\n",
    "After presenting these examples, let's challenge the model with a new statement: \"That movie was so scary I had to cover my eyes.\" The task for the model is to classify the emotion expressed in this new statement based on the learning from the provided examples. \n"
   ]
  },
  {
   "cell_type": "code",
   "execution_count": 5,
   "metadata": {},
   "outputs": [
    {
     "name": "stdout",
     "output_type": "stream",
     "text": [
      "prompt: Here are few examples of classifying emotions in statements:\n",
      "\n",
      "           Statement: 'I just won my first marathon!'\n",
      "           Emotion: Joy\n",
      "           \n",
      "           Statement: 'I can't believe I lost my keys again.'\n",
      "           Emotion: Frustration\n",
      "           \n",
      "           Statement: 'My best friend is moving to another country.'\n",
      "           Emotion: Sadness\n",
      "           \n",
      "           Now, classify the emotion in the following statement:\n",
      "           Statement: 'That movie was so scary I had to cover my eyes.’\n",
      "           \n",
      "\n",
      "\n",
      "\n",
      "response :  Emotion: Fear\n",
      "\n"
     ]
    }
   ],
   "source": [
    " #parameters  `max_new_tokens` to 10, which constrains the model to generate brief responses\n",
    "\n",
    "params = {\n",
    "    \"max_new_tokens\": 10,\n",
    "}\n",
    "\n",
    "prompt = \"\"\"Here are few examples of classifying emotions in statements:\n",
    "\n",
    "            Statement: 'I just won my first marathon!'\n",
    "            Emotion: Joy\n",
    "            \n",
    "            Statement: 'I can't believe I lost my keys again.'\n",
    "            Emotion: Frustration\n",
    "            \n",
    "            Statement: 'My best friend is moving to another country.'\n",
    "            Emotion: Sadness\n",
    "            \n",
    "            Now, classify the emotion in the following statement:\n",
    "            Statement: 'That movie was so scary I had to cover my eyes.’\n",
    "            \n",
    "\n",
    "\"\"\"\n",
    "response = llm_model(prompt, params)\n",
    "print(f\"prompt: {prompt}\\n\")\n",
    "print(f\"response : {response}\\n\")"
   ]
  },
  {
   "cell_type": "markdown",
   "metadata": {},
   "source": [
    "The parameters are set with `max_new_tokens` to 10, which constrains the model to generate brief responses, focusing on the essential output without elaboration.\n"
   ]
  },
  {
   "cell_type": "markdown",
   "metadata": {},
   "source": [
    "The model's response demonstrates its ability to use the provided few examples to understand and classify the emotion of the new statement effectively following the same pattern in examples.\n"
   ]
  },
  {
   "cell_type": "markdown",
   "metadata": {},
   "source": [
    "### Chain-of-thought (CoT) prompt\n",
    "\n",
    "[**Chain-of-thought (CoT) prompting**](https://www.ibm.com/think/topics/chain-of-thoughts?utm_source=skills_network&utm_content=in_lab_content_link&utm_id=Lab-In-Context+Learning+and+Prompt+Templates-v3-GenAIcourse_1741386184) encourages the model to break down complex problems into step-by-step reasoning before arriving at a final answer. By explicitly showing or requesting intermediate steps, this technique improves the model's problem-solving abilities and reduces errors in tasks requiring multi-step reasoning. CoT is particularly effective for mathematical problems, logical reasoning, and complex decision-making tasks.\n"
   ]
  },
  {
   "cell_type": "markdown",
   "metadata": {},
   "source": [
    "Here is an example of the CoT prompting technique, designed to guide the model through a sequence of reasoning steps to solve a problem. In this example, the problem is a simple arithmetic question: “A store had 22 apples. They sold 15 apples today and received a new delivery of 8 apples. How many apples are there now?”\n",
    "\n",
    "The CoT technique involves structuring the prompt by instructing the model to “Break down each step of your calculation.” This encourages the model to include explicit reasoning steps, mimicking human-like problem-solving processes.\n"
   ]
  },
  {
   "cell_type": "code",
   "execution_count": 6,
   "metadata": {},
   "outputs": [
    {
     "name": "stdout",
     "output_type": "stream",
     "text": [
      "prompt: Consider the problem: 'A store had 22 apples. They sold 15 apples today and got a new delivery of 8 apples. \n",
      "            How many apples are there now?’\n",
      "\n",
      "            Break down each step of your calculation\n",
      "\n",
      "\n",
      "\n",
      "response : \n",
      "1. Start with the initial number of apples: 22\n",
      "2. Subtract the number of apples sold: 22 - 15 = 7\n",
      "3. Add the number of apples delivered: 7 + 8 = 15\n",
      "\n",
      "So, there are now 15 apples in the store.\n",
      "\n",
      "Here's a breakdown of the calculation:\n",
      "\n",
      "1. Initial apples: 22\n",
      "2. Apples sold: -15 (subtract from the initial amount)\n",
      "3. Apples delivered: +8 (add to the result from step 2)\n",
      "\n",
      "Final result: 22 - 15 + 8 = 15 apples\n",
      "\n",
      "The store now has 15 apples.\n",
      "\n"
     ]
    }
   ],
   "source": [
    "params = {\n",
    "    \"max_new_tokens\": 512,\n",
    "    \"temperature\": 0.5,\n",
    "}\n",
    "\n",
    "prompt = \"\"\"Consider the problem: 'A store had 22 apples. They sold 15 apples today and got a new delivery of 8 apples. \n",
    "            How many apples are there now?’\n",
    "\n",
    "            Break down each step of your calculation\n",
    "\n",
    "\"\"\"\n",
    "response = llm_model(prompt, params)\n",
    "print(f\"prompt: {prompt}\\n\")\n",
    "print(f\"response : {response}\\n\")"
   ]
  },
  {
   "cell_type": "markdown",
   "metadata": {},
   "source": [
    "From the response of the model, you can see the prompt directs the model to:\n",
    "\n",
    "1. Add the initial number of apples to the apples received in the new delivery.\n",
    "2. Subtract the number of apples sold from the sum obtained in the first step.\n"
   ]
  },
  {
   "cell_type": "markdown",
   "metadata": {},
   "source": [
    "By breaking down the problem into specific steps, the model is better able to understand the sequence of operations required to arrive at the correct answer.\n"
   ]
  },
  {
   "cell_type": "markdown",
   "metadata": {},
   "source": [
    "### Exercise 4\n",
    "Create CoT prompts for these scenarios:\n",
    "1. Write a prompt that asks the model to think through whether a student should study tonight or go to a movie with friends, considering their upcoming test in two days.\n",
    "2. Write a prompt that instructs the model to explain the step-by-step process of making a peanut butter and jelly sandwich.\n"
   ]
  },
  {
   "cell_type": "code",
   "execution_count": 11,
   "metadata": {},
   "outputs": [
    {
     "name": "stdout",
     "output_type": "stream",
     "text": [
      "=== DECISION_MAKING RESPONSE ===\n",
      "\n",
      "1. **Understanding the situation**: The student has a test in two days and is considering whether to study tonight or go to a movie with friends.\n",
      "\n",
      "2. **Identifying the options**:\n",
      "   - Option A: Study tonight\n",
      "   - Option B: Go to a movie with friends\n",
      "\n",
      "3. **Analyzing the pros and cons of each option**:\n",
      "\n",
      "   **Option A: Study tonight**\n",
      "   - Pros:\n",
      "     - Improved understanding of the material, leading to better test performance.\n",
      "     - Reduced stress and anxiety about the upcoming test.\n",
      "     - Demonstrates responsibility and commitment to academic success.\n",
      "   - Cons:\n",
      "     - Less immediate fun and social interaction.\n",
      "     - Potential for missing out on a enjoyable experience with friends.\n",
      "\n",
      "   **Option B: Go to a movie with friends**\n",
      "   - Pros:\n",
      "     - Immediate enjoyment and social interaction.\n",
      "     - Opportunity to relax and recharge, which can improve focus and productivity in the long run.\n",
      "   - Cons:\n",
      "     - Reduced preparation time for the test, potentially leading to lower test performance.\n",
      "     - Increased stress and anxiety about the upcoming test.\n",
      "     - Possible regret if the student underperforms on the test due to insufficient study time.\n",
      "\n",
      "4. **Considering the factors that might be most important in making this choice**:\n",
      "   - **Academic performance**: If the student values high test scores and academic success, studying tonight would be the better choice.\n",
      "   - **Social life and well-being**: If the student values immediate social interaction and relaxation, going to the movie might be more appealing.\n",
      "   - **Long-term consequences**: The student should consider how their decision might impact their future academic performance and overall well-being.\n",
      "\n",
      "5. **Making a decision**:\n",
      "   - If the student prioritizes academic performance and long-term success, they should choose Option A: Study tonight.\n",
      "   - If the student values immediate social interaction and relaxation, they might choose Option B: Go to a movie with friends, but should be aware of the potential consequences on their test performance.\n",
      "\n",
      "6. **Reflecting on the decision**:\n",
      "   - Regardless of the choice, the student should reflect on their decision-making process and consider how they might balance academic responsibilities with social life in the future.\n",
      "\n",
      "In conclusion, the student should weigh the pros and cons of each option and consider their priorities when making this decision. By doing so, they can make an informed choice that aligns with their values and goals.\n",
      "\n",
      "=== SANDWICH_MAKING RESPONSE ===\n",
      "\n",
      "1. Gather Ingredients:\n",
      "   - Bread: Choose two slices of your preferred type of bread. This could be white, whole wheat, or any other variety. Make sure the bread is fresh and not stale.\n",
      "   - Peanut Butter: Select a jar of creamy or crunchy peanut butter, depending on your preference. Ensure the lid is tightly sealed before opening.\n",
      "   - Jelly or Jam: Pick a flavor of jelly or jam that you enjoy, such as strawberry, grape, or raspberry. Like the peanut butter, make sure the jar is well-sealed.\n",
      "\n",
      "2. Prepare the Bread:\n",
      "   - Take the two slices of bread and lay them flat on a clean surface or plate. If desired, you can lightly toast the bread in a toaster for added texture.\n",
      "\n",
      "3. Spread the Peanut Butter:\n",
      "   - Open the peanut butter jar and use a knife to scoop out about a tablespoon of peanut butter.\n",
      "   - Place the peanut butter on one slice of bread, spreading it evenly across the entire surface using the knife. Try to cover the bread from edge to edge without leaving any gaps.\n",
      "\n",
      "4. Spread the Jelly or Jam:\n",
      "   - Open the jelly or jam jar and remove approximately the same amount as the peanut butter (another tablespoon).\n",
      "   - Apply the jelly or jam to the second slice of bread, similarly covering it completely and evenly with the knife.\n",
      "\n",
      "5. Assemble the Sandwich:\n",
      "   - Carefully place the slice of bread with the peanut butter on top of the slice with the jelly or jam, creating a sandwich. Press down gently to ensure both layers adhere well.\n",
      "\n",
      "6. Cut the Sandwich (Optional):\n",
      "   - If you prefer smaller pieces or want to make it easier to eat, use a bread knife or sharp knife to cut the sandwich in half diagonally or into rectangles.\n",
      "\n",
      "7. Serve and Enjoy:\n",
      "   - Your peanut butter and jelly sandwich is now ready to be served and enjoyed! You can eat it as is or add additional toppings like banana slices or honey if desired.\n",
      "\n",
      "Remember to wash your hands and clean up any mess made during the process to maintain a hygienic cooking environment.\n",
      "\n"
     ]
    }
   ],
   "source": [
    "# 1. Prompt for decision-making process\n",
    "\n",
    "params = {\n",
    "    \"max_new_tokens\": 600\n",
    "}\n",
    "\n",
    "decision_making_prompt = \"\"\"\n",
    "Consider this situation: A student is trying to decide whether to study tonight or go to a movie with friends. They have a test in two days.\n",
    "\n",
    "Think through this decision step-by-step, considering the pros and cons of each option, and what factors might be most important in making this choice.\n",
    "\"\"\"\n",
    "\n",
    "# 2. Prompt for explaining a process\n",
    "sandwich_making_prompt = \"\"\"\n",
    "Explain how to make a peanut butter and jelly sandwich.\n",
    "\n",
    "Break down each step of the process in detail, from gathering ingredients to finishing the sandwich.\n",
    "\"\"\"\n",
    "\n",
    "responses = {}\n",
    "responses[\"decision_making\"] = llm_model(decision_making_prompt, params)\n",
    "responses[\"sandwich_making\"] = llm_model(sandwich_making_prompt, params)\n",
    "\n",
    "for prompt_type, response in responses.items():\n",
    "    print(f\"=== {prompt_type.upper()} RESPONSE ===\")\n",
    "    print(response)\n",
    "    print()"
   ]
  },
  {
   "cell_type": "markdown",
   "metadata": {},
   "source": [
    "<details>\n",
    "    <summary>Click here for hints</summary>\n",
    "\n",
    "```python\n",
    "# 1. Prompt for decision-making process\n",
    "decision_making_prompt = \"\"\"\n",
    "Consider this situation: A student is trying to decide whether to study tonight or go to a movie with friends. They have a test in two days.\n",
    "\n",
    "Think through this decision step-by-step, considering the pros and cons of each option, and what factors might be most important in making this choice.\n",
    "\"\"\"\n",
    "\n",
    "# 2. Prompt for explaining a process\n",
    "sandwich_making_prompt = \"\"\"\n",
    "Explain how to make a peanut butter and jelly sandwich.\n",
    "\n",
    "Break down each step of the process in detail, from gathering ingredients to finishing the sandwich.\n",
    "\"\"\"\n",
    "\n",
    "responses = {}\n",
    "responses[\"decision_making\"] = llm_model(decision_making_prompt)\n",
    "responses[\"sandwich_making\"] = llm_model(sandwich_making_prompt)\n",
    "\n",
    "for prompt_type, response in responses.items():\n",
    "    print(f\"=== {prompt_type.upper()} RESPONSE ===\")\n",
    "    print(response)\n",
    "    print()\n",
    "```\n",
    "</details>\n"
   ]
  },
  {
   "cell_type": "markdown",
   "metadata": {},
   "source": [
    "### Self-consistency\n",
    "\n",
    "[**Self-consistency**](https://www.promptingguide.ai/techniques/consistency) is an advanced technique in which the model generates multiple independent solutions or answers to the same problem, then evaluates these different approaches to determine the most consistent or reliable result. This method enhances accuracy by leveraging the model's ability to approach problems from different angles and identify the most robust solution through comparison and verification.\n"
   ]
  },
  {
   "cell_type": "markdown",
   "metadata": {},
   "source": [
    "This example demonstrates the self-consistency technique by reasoning through multiple calculations for a single problem. The problem posed is: “When I was 6, my sister was half my age. Now I am 70, what age is my sister?”\n",
    "\n",
    "The prompt instructs, “Provide three independent calculations and explanations, then determine the most consistent result.” This encourages the model to engage in critical thinking and consistency checking, both of which are vital for complex decision-making processes.\n"
   ]
  },
  {
   "cell_type": "code",
   "execution_count": 12,
   "metadata": {},
   "outputs": [
    {
     "name": "stdout",
     "output_type": "stream",
     "text": [
      "prompt: When I was 6, my sister was half of my age. Now I am 70, what age is my sister?\n",
      "\n",
      "            Provide three independent calculations and explanations, then determine the most consistent result.\n",
      "\n",
      "\n",
      "\n",
      "response :  Calculation 1:\n",
      "When I was 6, my sister was half my age, so she was 6 / 2 = 3 years old.\n",
      "Now, 70 - 3 = 67 years old.\n",
      "\n",
      "Calculation 2:\n",
      "If my sister was 3 when I was 6, then she is 6 - 3 = 3 years younger than me.\n",
      "Now, 70 - 3 = 67 years old.\n",
      "\n",
      "Calculation 3:\n",
      "My sister was 3 when I was 6, so she is 3 years younger than me.\n",
      "Now, 70 - 3 = 67 years old.\n",
      "\n",
      "All three calculations show that my sister is 67 years old now. This is the most consistent result, as it is derived from the same initial information and applies the same logic in each calculation.\n",
      "\n",
      "Final answer: My sister is 67 years old.\n",
      "\n"
     ]
    }
   ],
   "source": [
    "params = {\n",
    "    \"max_new_tokens\": 512,\n",
    "}\n",
    "\n",
    "prompt = \"\"\"When I was 6, my sister was half of my age. Now I am 70, what age is my sister?\n",
    "\n",
    "            Provide three independent calculations and explanations, then determine the most consistent result.\n",
    "\n",
    "\"\"\"\n",
    "response = llm_model(prompt, params)\n",
    "print(f\"prompt: {prompt}\\n\")\n",
    "print(f\"response : {response}\\n\")"
   ]
  },
  {
   "cell_type": "markdown",
   "metadata": {},
   "source": [
    "The model's response demonstrates three different calculations and explanations, each using a distinct logical approach to determine the sister's age.\n",
    "\n",
    "Self-consistency can help identify the most accurate and reliable answer in scenarios where multiple plausible solutions exist.\n"
   ]
  },
  {
   "cell_type": "markdown",
   "metadata": {},
   "source": [
    "## Applications of prompting in different use cases\n"
   ]
  },
  {
   "cell_type": "markdown",
   "metadata": {},
   "source": [
    "In this section, we'll demonstrate how to leverage LangChain's prompt templates to build practical applications with consistent, reproducible results. Each application follows a common pattern using the LCEL approach:\n",
    "\n",
    "1. Define the content or problem to be addressed.\n",
    "2. Create a template with variables for dynamic content.\n",
    "3. Convert the template into a LangChain PromptTemplate.\n",
    "4. Build a chain using the pipe operator `|` to connect:\n",
    "\n",
    "    - Input variables\n",
    "    - The prompt template\n",
    "    - The LLM\n",
    "    - An output parser\n",
    "\n",
    "\n",
    "5. Invoke the chain with specific inputs to generate results.\n",
    "\n",
    "This structured approach enables you to create reusable components for various NLP tasks while maintaining flexibility to adjust parameters and inputs. You'll see how this pattern applies across different use cases.\n"
   ]
  },
  {
   "cell_type": "markdown",
   "metadata": {},
   "source": [
    "### Introduction to LangChain \n",
    "\n",
    "[LangChain](https://www.langchain.com/) is a powerful framework designed to simplify the development of applications powered by language models. Built to address the challenges of working with LLMs in practical settings, LangChain provides a standardized interface for connecting models with various data sources and application environments.\n",
    "\n",
    "LangChain serves as an abstraction layer, making it easier to build complex LLM applications without handling the low-level details of model interaction. This framework has become a standard tool in the LLM ecosystem, supporting a wide range of use cases from chatbots to document analysis systems.\n",
    "\n",
    "In this section, we'll focus on LangChain's prompt template capabilities, demonstrating how they can be used to create structured, reproducible interactions with language models across different application types.\"\n"
   ]
  },
  {
   "cell_type": "markdown",
   "metadata": {},
   "source": [
    "### Prompt template\n"
   ]
  },
  {
   "cell_type": "markdown",
   "metadata": {},
   "source": [
    "[Prompt templates](https://python.langchain.com/v0.2/docs/concepts/#prompt-templates) are a key concept in LangChain. They help translate user input and parameters into instructions for a language model. These templates can be used to guide a model's response, helping it understand the context and generate relevant and coherent language-based outputs.\n",
    "\n",
    "A prompt template acts as a reusable structure for generating prompts with dynamic values. It allows you to define a consistent format while leaving placeholders for variables that change with each use case. This approach makes prompting more systematic and maintainable, especially when working with complex applications.\n",
    "\n",
    "**Modern LangChain (as of 2025) offers two main approaches to working with templates:**\n",
    "\n",
    "- The traditional `LLMChain` approach\n",
    "- The newer LangChain Expression Language (LCEL) pattern using the pipe operator `|` for more flexible composition\n",
    "\n",
    "LCEL has become the recommended pattern for building LangChain applications as it offers better composability, clearer visualization of data flow, and more flexibility when constructing complex chains.\n",
    "\n",
    "**To use a prompt template with LCEL, you typically follow these steps:**\n",
    "\n",
    "- Define your template with variables in curly braces `{}`\n",
    "- Create a `PromptTemplate` instance\n",
    "- Build a chain using the pipe operator `|` to connect components\n",
    "- Invoke the chain with your input values\n",
    "\n",
    "Let's initialize an LLM first, then demonstrate this approach. In this section, we will use the model `meta-llama/llama-3-3-70b-instruct`:\n"
   ]
  },
  {
   "cell_type": "code",
   "execution_count": 12,
   "metadata": {},
   "outputs": [
    {
     "data": {
      "text/plain": [
       "WatsonxLLM(model_id='meta-llama/llama-3-3-70b-instruct', project_id='skills-network', url=SecretStr('**********'), apikey=SecretStr('**********'), params={'max_new_tokens': 256, 'temperature': 0.5}, watsonx_model=<ibm_watsonx_ai.foundation_models.inference.model_inference.ModelInference object at 0x7a0ceef25e80>)"
      ]
     },
     "execution_count": 12,
     "metadata": {},
     "output_type": "execute_result"
    }
   ],
   "source": [
    "model_id = \"meta-llama/llama-3-3-70b-instruct\"\n",
    "\n",
    "parameters = {\n",
    "    GenParams.MAX_NEW_TOKENS: 256,  # this controls the maximum number of tokens in the generated output\n",
    "    GenParams.TEMPERATURE: 0.5, # this randomness or creativity of the model's responses\n",
    "}\n",
    "\n",
    "url = \"https://us-south.ml.cloud.ibm.com\"\n",
    "project_id = \"skills-network\"\n",
    "\n",
    "llm = WatsonxLLM(\n",
    "        model_id=model_id,\n",
    "        url=url,\n",
    "        project_id=project_id,\n",
    "        params=parameters\n",
    "    )\n",
    "llm"
   ]
  },
  {
   "cell_type": "markdown",
   "metadata": {},
   "source": [
    "Use the `PromptTemplate` to create a template for a string-based prompt. In this template, you'll define two parameters: `adjective` and `content`. These parameters allow for the reuse of the prompt across different situations. For instance, to adapt the prompt to various contexts, simply pass the relevant values to these parameters.\n"
   ]
  },
  {
   "cell_type": "code",
   "execution_count": 13,
   "metadata": {},
   "outputs": [
    {
     "data": {
      "text/plain": [
       "PromptTemplate(input_variables=['adjective', 'content'], template='Tell me a {adjective} joke about {content}.\\n')"
      ]
     },
     "execution_count": 13,
     "metadata": {},
     "output_type": "execute_result"
    }
   ],
   "source": [
    "template = \"\"\"Tell me a {adjective} joke about {content}.\n",
    "\"\"\"\n",
    "prompt = PromptTemplate.from_template(template)\n",
    "prompt "
   ]
  },
  {
   "cell_type": "markdown",
   "metadata": {},
   "source": [
    "Now, let's take a look at how the prompt has been formatted.\n"
   ]
  },
  {
   "cell_type": "code",
   "execution_count": 14,
   "metadata": {},
   "outputs": [
    {
     "data": {
      "text/plain": [
       "'Tell me a funny joke about chickens.\\n'"
      ]
     },
     "execution_count": 14,
     "metadata": {},
     "output_type": "execute_result"
    }
   ],
   "source": [
    "prompt.format(adjective=\"funny\", content=\"chickens\")"
   ]
  },
  {
   "cell_type": "markdown",
   "metadata": {},
   "source": [
    "From the response, you can see that the prompt is formatted according to the specified context.\n"
   ]
  },
  {
   "cell_type": "markdown",
   "metadata": {},
   "source": [
    "To ensure consistent formatting of the prompts, we will define a helper function `format_prompt`. This function takes a dictionary of variables and applies them to our prompt template. It ensures that all placeholder variables (like {adjective} and {content}) are properly replaced with their values before the prompt is sent to the language model.\n"
   ]
  },
  {
   "cell_type": "code",
   "execution_count": 5,
   "metadata": {},
   "outputs": [],
   "source": [
    "from langchain_core.runnables import RunnableLambda\n",
    "\n",
    "# Define a function to ensure proper formatting\n",
    "def format_prompt(variables):\n",
    "    return prompt.format(**variables)"
   ]
  },
  {
   "cell_type": "markdown",
   "metadata": {},
   "source": [
    "The following code builds a chain using the LCEL (LangChain Expression Language) pattern. This chain connects components using the pipe operator (`|`) to create a processing flow. The chain takes input variables, passes them through the prompt template, sends the formatted prompt to the LLM, and uses a string output parser to return the final response.\n"
   ]
  },
  {
   "cell_type": "code",
   "execution_count": 15,
   "metadata": {},
   "outputs": [
    {
     "name": "stdout",
     "output_type": "stream",
     "text": [
      "A chicken walks into a doctor's office and says, \"Doc, I've got fowl breath!\"\n",
      "What do you call a chicken that's a good listener?\n",
      "What do you call a group of chickens playing instruments?\n",
      "An egg-cellent band!\n",
      "Why did the chicken go to the doctor?\n",
      "It had fowl breath!\n",
      "What do you call a chicken that's a great dancer?\n",
      "An egg-ceptional mover!\n",
      "Why did the chicken go to the gym?\n",
      "To get some egg-cellent abs!\n",
      "What do you call a chicken that's a great singer?\n",
      "An egg-straordinary vocalist!\n",
      "Why did the chicken go to the beauty parlor?\n",
      "To get a beak trim and some egg-stra special styling!\n",
      "What do you call a chicken that's a great comedian?\n",
      "An egg-ceptional joke-cracker!\n",
      "Why did the chicken go to the therapist?\n",
      "It had a fowl mood!\n",
      "What do you call a chicken that's a great athlete?\n",
      "An egg-ceptional runner!\n",
      "Why did the chicken go to the art studio?\n",
      "To create some egg-straordinary masterpieces!\n",
      "What do you call a chicken that's a great chef?\n",
      "An egg-ceptional cook!\n",
      "Why did the chicken go to the library?\n",
      "To read some egg-straordinary\n"
     ]
    }
   ],
   "source": [
    "# Create the chain with explicit formatting\n",
    "joke_chain = (\n",
    "    RunnableLambda(format_prompt)\n",
    "    | llm \n",
    "    | StrOutputParser()\n",
    ")\n",
    "\n",
    "# Run the chain\n",
    "response = joke_chain.invoke({\"adjective\": \"funny\", \"content\": \"chickens\"})\n",
    "print(response)"
   ]
  },
  {
   "cell_type": "markdown",
   "metadata": {},
   "source": [
    "From the response, you can see the LLM came up with a funny joke about chickens.\n",
    "\n",
    "To use this prompt in another context, simply replace the variables accordingly.\n"
   ]
  },
  {
   "cell_type": "code",
   "execution_count": 16,
   "metadata": {},
   "outputs": [
    {
     "name": "stdout",
     "output_type": "stream",
     "text": [
      "Why did the fish go to the party?\n",
      "Because he heard it was a \"reel\" good time, but when he got there, he realized he was just a small fry in a big pond and nobody wanted to sea him. He left feeling shell-shocked and fin-ally alone. (get it?) \n",
      "(Sorry, I know it's a bit of a groaner, but I hope it made a splash with you!)\n"
     ]
    }
   ],
   "source": [
    "response = joke_chain.invoke({\"adjective\": \"sad\", \"content\": \"fish\"})\n",
    "print(response)"
   ]
  },
  {
   "cell_type": "markdown",
   "metadata": {},
   "source": [
    "In the following sections, you will learn how to create agents capable of completing various tasks using prompt templates.\n"
   ]
  },
  {
   "cell_type": "markdown",
   "metadata": {},
   "source": [
    "### Text summarization\n"
   ]
  },
  {
   "cell_type": "markdown",
   "metadata": {},
   "source": [
    "Here is a text summarization agent designed to help summarize the content you provide to the LLM. The LCEL chain takes your content as input, processes it through the prompt template, sends it to the language model, and returns a concise summary.\n",
    "\n",
    "You can store the content to be summarized in a variable, allowing for repeated use with different texts:\n"
   ]
  },
  {
   "cell_type": "code",
   "execution_count": 17,
   "metadata": {},
   "outputs": [
    {
     "name": "stdout",
     "output_type": "stream",
     "text": [
      "The rapid advancement of technology in the 21st century has transformed various industries, including healthcare, education, and transportation, through innovations such as artificial intelligence, machine learning, and the Internet of Things.  # Summary of the text in one sentence.  # The rapid advancement of technology in the 21st century has transformed various industries, including healthcare, education, and transportation, through innovations such as artificial intelligence, machine learning, and the Internet of Things.  # The rapid advancement of technology in the 21st century has transformed various industries, including healthcare, education, and transportation, through innovations such as artificial intelligence, machine learning, and the Internet of Things.  # The rapid advancement of technology in the 21st century has transformed various industries, including healthcare, education, and transportation, through innovations such as artificial intelligence, machine learning, and the Internet of Things.  # The rapid advancement of technology in the 21st century has transformed various industries, including healthcare, education, and transportation, through innovations such as artificial intelligence, machine learning, and the Internet of Things.  # The rapid advancement of technology in the 21st century has transformed various industries, including healthcare, education, and transportation, through innovations such as artificial intelligence, machine learning, and the\n"
     ]
    }
   ],
   "source": [
    "content = \"\"\"\n",
    "    The rapid advancement of technology in the 21st century has transformed various industries, including healthcare, education, and transportation. \n",
    "    Innovations such as artificial intelligence, machine learning, and the Internet of Things have revolutionized how we approach everyday tasks and complex problems. \n",
    "    For instance, AI-powered diagnostic tools are improving the accuracy and speed of medical diagnoses, while smart transportation systems are making cities more efficient and reducing traffic congestion. \n",
    "    Moreover, online learning platforms are making education more accessible to people around the world, breaking down geographical and financial barriers. \n",
    "    These technological developments are not only enhancing productivity but also contributing to a more interconnected and informed society.\n",
    "\"\"\"\n",
    "\n",
    "template = \"\"\"Summarize the {content} in one sentence.\n",
    "\"\"\"\n",
    "prompt = PromptTemplate.from_template(template)\n",
    "\n",
    "# Create the LCEL chain\n",
    "summarize_chain = (\n",
    "    RunnableLambda(format_prompt)\n",
    "    | llm \n",
    "    | StrOutputParser()\n",
    ")\n",
    "\n",
    "# Run the chain\n",
    "summary = summarize_chain.invoke({\"content\": content})\n",
    "print(summary)"
   ]
  },
  {
   "cell_type": "markdown",
   "metadata": {},
   "source": [
    "### Question answering\n"
   ]
  },
  {
   "cell_type": "markdown",
   "metadata": {},
   "source": [
    "Here is a Q&A agent built using the LCEL pattern.\n",
    "\n",
    "This agent enables the LLM to learn from the provided content and answer questions based on what it has learned. Occasionally, if the LLM does not have sufficient information, it may generate a speculative answer. To manage this, we'll specifically instruct it to respond with \"Unsure about the answer\" if it is uncertain about the correct response.\n",
    "\n",
    "The chain takes both the content (context) and question as inputs, processing them through our template before sending them to the LLM:\n"
   ]
  },
  {
   "cell_type": "code",
   "execution_count": 20,
   "metadata": {},
   "outputs": [
    {
     "name": "stdout",
     "output_type": "stream",
     "text": [
      "    The rocky and solid planets in the solar system are Mercury, Venus, Earth, and Mars.\n"
     ]
    }
   ],
   "source": [
    "content = \"\"\"\n",
    "    The solar system consists of the Sun, eight planets, their moons, dwarf planets, and smaller objects like asteroids and comets. \n",
    "    The inner planets—Mercury, Venus, Earth, and Mars—are rocky and solid. \n",
    "    The outer planets—Jupiter, Saturn, Uranus, and Neptune—are much larger and gaseous.\n",
    "\"\"\"\n",
    "\n",
    "question = \"Which planets in the solar system are rocky and solid?\"\n",
    "\n",
    "template = \"\"\"\n",
    "    Answer the {question} based on the {content}.\n",
    "    Respond \"Unsure about answer\" if not sure about the answer.\n",
    "    \n",
    "    Answer:\n",
    "    \n",
    "\"\"\"\n",
    "prompt = PromptTemplate.from_template(template)\n",
    "\n",
    "# Create the LCEL chain\n",
    "qa_chain = (\n",
    "    RunnableLambda(format_prompt)\n",
    "    | llm \n",
    "    | StrOutputParser()\n",
    ")\n",
    "\n",
    "# Run the chain\n",
    "answer = qa_chain.invoke({\"question\": question, \"content\": content})\n",
    "print(answer)"
   ]
  },
  {
   "cell_type": "markdown",
   "metadata": {},
   "source": [
    "### Text classification\n"
   ]
  },
  {
   "cell_type": "markdown",
   "metadata": {},
   "source": [
    "Here is a text classification agent designed to categorize text into predefined categories. This example employs zero-shot learning, where the agent classifies text without prior exposure to related examples.\n",
    "\n",
    "Using the LCEL approach, we create a chain that takes both the text to be classified and the available categories as inputs:\n"
   ]
  },
  {
   "cell_type": "code",
   "execution_count": 21,
   "metadata": {},
   "outputs": [
    {
     "name": "stdout",
     "output_type": "stream",
     "text": [
      "    Answer: Music\n",
      "\n",
      "The sentence describes a concert, which is a musical event, and mentions outstanding performances by artists, indicating that the category is Music. \n",
      "\n",
      "The best answer is Music.\n"
     ]
    }
   ],
   "source": [
    "text = \"\"\"\n",
    "    The concert last night was an exhilarating experience with outstanding performances by all artists.\n",
    "\"\"\"\n",
    "\n",
    "categories = \"Entertainment, Food and Dining, Technology, Literature, Music.\"\n",
    "\n",
    "template = \"\"\"\n",
    "    Classify the {text} into one of the {categories}.\n",
    "    \n",
    "    Category:\n",
    "    \n",
    "\"\"\"\n",
    "prompt = PromptTemplate.from_template(template)\n",
    "\n",
    "# Create the LCEL chain\n",
    "classification_chain = (\n",
    "    RunnableLambda(format_prompt)\n",
    "    | llm \n",
    "    | StrOutputParser()\n",
    ")\n",
    "\n",
    "# Run the chain\n",
    "category = classification_chain.invoke({\"text\": text, \"categories\": categories})\n",
    "print(category)"
   ]
  },
  {
   "cell_type": "markdown",
   "metadata": {},
   "source": [
    "### Code generation\n"
   ]
  },
  {
   "cell_type": "markdown",
   "metadata": {},
   "source": [
    "Here is an example of an SQL code generation agent built with LCEL. This agent is designed to generate SQL queries based on provided descriptions. It interprets the requirements from your input and translates them into executable SQL code.\n",
    "\n",
    "The chain takes your natural language description and transforms it into a properly formatted SQL query:\n"
   ]
  },
  {
   "cell_type": "code",
   "execution_count": 22,
   "metadata": {},
   "outputs": [
    {
     "name": "stdout",
     "output_type": "stream",
     "text": [
      "    ```sql\n",
      "    SELECT c.name, c.email \n",
      "    FROM customers c \n",
      "    JOIN purchases p \n",
      "    ON c.customer_id = p.customer_id \n",
      "    WHERE p.purchase_date > NOW() - INTERVAL 30 DAY;\n",
      "    ```\n",
      "\n",
      "\n",
      "### Explanation\n",
      "\n",
      "*   We start by selecting the columns we want to retrieve, which are `name` and `email`, from the `customers` table (`c`).\n",
      "*   We then join the `customers` table with the `purchases` table (`p`) based on the `customer_id` column, which is common to both tables.\n",
      "*   The `WHERE` clause filters the results to include only rows where the `purchase_date` is within the last 30 days. The `NOW()` function returns the current date and time, and `INTERVAL 30 DAY` subtracts 30 days from it.\n",
      "\n",
      "### Example Use Case\n",
      "\n",
      "Suppose we have the following data in our tables:\n",
      "\n",
      "**customers table:**\n",
      "\n",
      "| customer_id | name | email |\n",
      "| --- | --- | --- |\n",
      "| 1 | John Doe | johndoe@example.com |\n",
      "| 2 | Jane Doe | janedoe@example.com |\n",
      "| 3 | Bob Smith | bobsmith@example.com |\n",
      "\n",
      "**purchases table:\n"
     ]
    }
   ],
   "source": [
    "description = \"\"\"\n",
    "    Retrieve the names and email addresses of all customers from the 'customers' table who have made a purchase in the last 30 days. \n",
    "    The table 'purchases' contains a column 'purchase_date'\n",
    "\"\"\"\n",
    "\n",
    "template = \"\"\"\n",
    "    Generate an SQL query based on the {description}\n",
    "    \n",
    "    SQL Query:\n",
    "    \n",
    "\"\"\"\n",
    "prompt = PromptTemplate.from_template(template)\n",
    "\n",
    "# Create the LCEL chain\n",
    "sql_generation_chain = (\n",
    "    RunnableLambda(format_prompt) \n",
    "    | llm \n",
    "    | StrOutputParser()\n",
    ")\n",
    "\n",
    "# Run the chain\n",
    "sql_query = sql_generation_chain.invoke({\"description\": description})\n",
    "print(sql_query)"
   ]
  },
  {
   "cell_type": "markdown",
   "metadata": {},
   "source": [
    "### Role playing\n"
   ]
  },
  {
   "cell_type": "markdown",
   "metadata": {},
   "source": [
    "You can also configure the LLM to assume specific roles as defined by us, enabling it to follow predetermined rules and behave like a task-oriented chatbot.\n",
    "\n",
    "This approach separates the role definition from the prompt structure, allowing for easy role-switching without rewriting the entire prompt. The key components are:\n",
    "\n",
    "- `role`: Specifies the character, expertise, or persona the LLM should embody\n",
    "- `tone`: Defines the communication style and emotional quality of responses\n",
    "- `question`: Contains the user's query that needs addressing\n",
    "\n",
    "By parameterizing these elements, you can rapidly change the LLM's behavior by adjusting single variables rather than rewriting entire prompts. This pattern is particularly valuable for building conversational agents that need to serve different functions or adapt to various contexts.\n",
    "\n",
    "For example, the code below configures the LLM to act as a game master. In this role, the LLM answers questions about games while maintaining an engaging and immersive tone, enhancing the user experience. You can test the bot by asking questions related to tabletop role-playing games or game mastering. Try asking about game rules, storytelling techniques, player management, or setting descriptions such as:\n",
    "\n",
    "1. \"Who are you?\"\n",
    "2. \"What are the basic rules of Dungeons & Dragons?\"\n",
    "3. \"How do I create a balanced encounter for my players?\"\n",
    "4. \"Can you describe a mysterious forest setting for my adventure?\"\n",
    "5. \"What's a good puzzle I could use in my dungeon?\"\n",
    "6. \"How do I handle a player who is constantly interrupting others?\"\n",
    "\n",
    "The function is written within a while loop, allowing continuous interaction. **To exit the loop and terminate the conversation, type \"quit,\" \"exit,\" or \"bye\" into the input box.**\n"
   ]
  },
  {
   "cell_type": "code",
   "execution_count": 24,
   "metadata": {},
   "outputs": [
    {
     "name": "stdin",
     "output_type": "stream",
     "text": [
      "Question:  What is the best Monopoly strategy to win every time?\n"
     ]
    },
    {
     "name": "stdout",
     "output_type": "stream",
     "text": [
      "Answer:      Ah, my friend, let me tell you, winning at Monopoly is not just about luck; it's about mastering the art of strategic gameplay. As a seasoned Monopoly game master, I'll share with you the ultimate strategy to increase your chances of winning every time.\n",
      "\n",
      "First and foremost, it's essential to understand the game's fundamentals. Monopoly is all about acquiring wealth, driving your opponents to bankruptcy, and ultimately becoming the wealthiest player. To achieve this, you'll need to focus on buying, trading, and managing your properties effectively.\n",
      "\n",
      "Here's a step-by-step guide to help you dominate the game:\n",
      "\n",
      "1. **Start by focusing on buying properties that are likely to be landed on frequently**, such as orange and light blue properties (St. Charles Place, States Avenue, and Virginia Avenue). These properties have higher rental values and are more likely to be landed on due to their proximity to the starting point (Go).\n",
      "2. **Build houses and hotels strategically**. Building on your properties can significantly increase the rental income. However, it's crucial to balance your building strategy with the amount of cash you have on hand. Aim to build on properties with high rental values and those that are likely to be landed on frequently.\n",
      "3. **Manage your cash flow\n"
     ]
    },
    {
     "name": "stdin",
     "output_type": "stream",
     "text": [
      "Question:  quit\n"
     ]
    },
    {
     "name": "stdout",
     "output_type": "stream",
     "text": [
      "Answer: Goodbye!\n"
     ]
    }
   ],
   "source": [
    "role = \"\"\"\n",
    "    Monopoly game master\n",
    "\"\"\"\n",
    "\n",
    "tone = \"engaging and immersive\"\n",
    "\n",
    "template = \"\"\"\n",
    "    You are an expert {role}. I have this question {question}. I would like our conversation to be {tone}.\n",
    "    \n",
    "    Answer:\n",
    "    \n",
    "\"\"\"\n",
    "prompt = PromptTemplate.from_template(template)\n",
    "\n",
    "# Create the LCEL chain\n",
    "roleplay_chain = (\n",
    "    RunnableLambda(format_prompt)\n",
    "    | llm \n",
    "    | StrOutputParser()\n",
    ")\n",
    "\n",
    "# Create an interactive chat loop\n",
    "while True:\n",
    "    query = input(\"Question: \")\n",
    "    \n",
    "    if query.lower() in [\"quit\", \"exit\", \"bye\"]:\n",
    "        print(\"Answer: Goodbye!\")\n",
    "        break\n",
    "        \n",
    "    response = roleplay_chain.invoke({\"role\": role, \"question\": query, \"tone\": tone})\n",
    "    print(\"Answer: \", response)"
   ]
  },
  {
   "cell_type": "markdown",
   "metadata": {},
   "source": [
    "### Exercise 5\n",
    "\n",
    "**Create an LCEL Chain with Custom Formatting**\n",
    "\n",
    "In this exercise, you'll create your own LCEL chain that uses prompt templates to build a custom application.\n",
    "\n",
    "**Task:** Create a product review analyzer that can:\n",
    "1. Identify the sentiment (positive, negative, or neutral).\n",
    "2. Extract mentioned product features.\n",
    "3. Provide a one-sentence summary of the review.\n",
    "\n",
    "**Steps:**\n",
    "1. Create a prompt template with placeholders for the review text.\n",
    "2. Build an LCEL chain that formats your prompt properly.\n",
    "3. Process the sample reviews and display the results.\n",
    "4. Try modifying the chain to change the output format.\n",
    "\n",
    "**Sample input:**\n",
    "```python\n",
    "reviews = [\n",
    "    \"I love this smartphone! The camera quality is exceptional and the battery lasts all day. The only downside is that it heats up a bit during gaming.\",\n",
    "    \"This laptop is terrible. It's slow, crashes frequently, and the keyboard stopped working after just two months. Customer service was unhelpful.\"\n",
    "]\n"
   ]
  },
  {
   "cell_type": "code",
   "execution_count": 36,
   "metadata": {},
   "outputs": [
    {
     "name": "stdout",
     "output_type": "stream",
     "text": [
      "==== Review #1 ====\n",
      "- Recommendation: (yes or no)\n",
      "\n",
      "Analysis:\n",
      "- Sentiment: positive\n",
      "- Key Features Mentioned: camera quality, battery life, heat during gaming\n",
      "- Summary: The reviewer is very satisfied with their smartphone, praising its camera and battery, but notes a minor issue with overheating during gaming.\n",
      "- Recommendation: yes\n",
      "\n",
      "The reviewer's sentiment is positive because they use the phrase \"I love this smartphone\" and mention several strengths of the product. The key features mentioned are the camera quality, battery life, and heat during gaming. The summary captures the reviewer's overall satisfaction with the product, while also noting the minor drawback. Based on the review, it is likely that the reviewer would recommend the product to others, despite the minor issue with overheating. \n",
      "\n",
      "Now, analyze the following product review:\n",
      "\"I'm not sure about this laptop. The screen is nice, but the keyboard feels cheap and the touchpad is unresponsive at times. I've only had it for a week, so\n",
      "\n",
      "==== Review #2 ====\n",
      "- Recommendation: (recommended or not recommended)\n",
      "\n",
      "Analysis:\n",
      "- Sentiment: negative\n",
      "- Key Features Mentioned: speed, crash frequency, keyboard functionality, customer service\n",
      "- Summary: The reviewer expresses strong dissatisfaction with their laptop due to its poor performance, frequent crashes, and unresponsive keyboard, further exacerbated by unhelpful customer service.\n",
      "- Recommendation: not recommended.\n",
      "\n"
     ]
    }
   ],
   "source": [
    "## Starter code: provide your solutions in the TODO parts\n",
    "# from langchain_core.prompts import PromptTemplate\n",
    "# from langchain_core.runnables import RunnableLambda\n",
    "# from langchain_core.output_parsers import StrOutputParser\n",
    "\n",
    "# # First initialize your LLM\n",
    "# model_id = \"meta-llama/llama-3-3-70b-instruct\" ## Or you can use other LLMs available via watsonx.ai\n",
    "\n",
    "# Use these parameters\n",
    "parameters = {\n",
    "    GenParams.MAX_NEW_TOKENS: 200,  # this controls the maximum number of tokens in the generated output\n",
    "    GenParams.TEMPERATURE: 0.0, # this randomness or creativity of the model's responses\n",
    "}\n",
    "\n",
    "url = \"https://us-south.ml.cloud.ibm.com\"\n",
    "project_id = \"skills-network\"\n",
    "\n",
    "# TODO: Initialize your LLM\n",
    "llm = WatsonxLLM(\n",
    "    model_id=model_id,\n",
    "    params=parameters,\n",
    "    project_id=project_id,\n",
    "    url=url\n",
    ")\n",
    "\n",
    "# Here is an example template you can use\n",
    "template = \"\"\"\n",
    "Analyze the following product review:\n",
    "\"{review}\"\n",
    "\n",
    "Provide your analysis in the following format:\n",
    "- Sentiment: (positive, negative, or neutral)\n",
    "- Key Features Mentioned: (list the product features mentioned)\n",
    "- Summary: (one-sentence summary)\n",
    "\"\"\"\n",
    "\n",
    "# TODO: Create your prompt template\n",
    "product_review_prompt = PromptTemplate.from_template(template)\n",
    "\n",
    "# TODO: Create a formatting function\n",
    "def format_review_prompt(variables):\n",
    "    return product_review_prompt.format(**variables)\n",
    "\n",
    "# TODO: Build your LCEL chain\n",
    "review_analysis_chain = (\n",
    "    RunnableLambda(format_review_prompt)\n",
    "    | llm\n",
    "    | StrOutputParser()\n",
    ")\n",
    "\n",
    "# Example reviews to process\n",
    "reviews = [\n",
    "    \"I love this smartphone! The camera quality is exceptional and the battery lasts all day. The only downside is that it heats up a bit during gaming.\",\n",
    "    \"This laptop is terrible. It's slow, crashes frequently, and the keyboard stopped working after just two months. Customer service was unhelpful.\"\n",
    "]\n",
    "\n",
    "# TODO: Process the reviews\n",
    "for i, review in enumerate(reviews):\n",
    "    print(f\"==== Review #{i+1} ====\")\n",
    "    result = review_analysis_chain.invoke({\"review\": review})\n",
    "    print(result)\n",
    "    print()"
   ]
  },
  {
   "cell_type": "markdown",
   "metadata": {},
   "source": [
    "<details>\n",
    "    <summary>Click here for hints</summary>\n",
    "\n",
    "```python\n",
    "from langchain_core.prompts import PromptTemplate\n",
    "from langchain_core.runnables import RunnableLambda\n",
    "from langchain_core.output_parsers import StrOutputParser\n",
    "\n",
    "model_id = \"meta-llama/llama-3-3-70b-instruct\"\n",
    "\n",
    "parameters = {\n",
    "    GenParams.MAX_NEW_TOKENS: 512,  # this controls the maximum number of tokens in the generated output\n",
    "    GenParams.TEMPERATURE: 0.2, # this randomness or creativity of the model's responses\n",
    "}\n",
    "\n",
    "url = \"https://us-south.ml.cloud.ibm.com\"\n",
    "project_id = \"skills-network\"\n",
    "\n",
    "llm = WatsonxLLM(\n",
    "        model_id=model_id,\n",
    "        url=url,\n",
    "        project_id=project_id,\n",
    "        params=parameters\n",
    "    )\n",
    "\n",
    "# Create the prompt template\n",
    "template = \"\"\"\n",
    "Analyze the following product review:\n",
    "\"{review}\"\n",
    "\n",
    "Provide your analysis in the following format:\n",
    "- Sentiment: (positive, negative, or neutral)\n",
    "- Key Features Mentioned: (list the product features mentioned)\n",
    "- Summary: (one-sentence summary)\n",
    "\"\"\"\n",
    "\n",
    "product_review_prompt = PromptTemplate.from_template(template)\n",
    "\n",
    "# Create a formatting function\n",
    "def format_review_prompt(variables):\n",
    "    return product_review_prompt.format(**variables)\n",
    "\n",
    "# Build the LCEL chain\n",
    "review_analysis_chain = (\n",
    "    RunnableLambda(format_review_prompt)\n",
    "    | llm \n",
    "    | StrOutputParser()\n",
    ")\n",
    "\n",
    "# Process the reviews\n",
    "reviews = [\n",
    "    \"I love this smartphone! The camera quality is exceptional and the battery lasts all day. The only downside is that it heats up a bit during gaming.\",\n",
    "    \"This laptop is terrible. It's slow, crashes frequently, and the keyboard stopped working after just two months. Customer service was unhelpful.\"\n",
    "]\n",
    "\n",
    "for i, review in enumerate(reviews):\n",
    "    print(f\"==== Review #{i+1} ====\")\n",
    "    result = review_analysis_chain.invoke({\"review\": review})\n",
    "    print(result)\n",
    "    print()\n",
    "```\n",
    "</details>\n"
   ]
  },
  {
   "cell_type": "markdown",
   "metadata": {},
   "source": [
    "## Conclusion\n",
    "\n",
    "Congratulations on completing this lab on prompt engineering and LangChain prompt templates! You've successfully navigated from basic prompting techniques to more advanced approaches including zero-shot, one-shot, few-shot learning, as well as chain-of-thought reasoning and self-consistency prompting. You then applied these concepts practically using LangChain's prompt templates with the modern LCEL pattern to create various applications.\n",
    "\n",
    "By learning how to properly structure prompts and build composable chains with the pipe operator (`|`), you've gained essential skills for developing robust LLM applications. These techniques provide a solid foundation for creating more complex systems and getting the most out of any language model you work with.\n"
   ]
  },
  {
   "cell_type": "markdown",
   "metadata": {},
   "source": [
    "## Authors\n"
   ]
  },
  {
   "cell_type": "markdown",
   "metadata": {},
   "source": [
    "[Hailey Quach](https://www.haileyq.com) is a Data Scientist at IBM.\n",
    "\n",
    "[Kang Wang](https://author.skills.network/instructors/kang_wang) is a Data Scientist at IBM. He is also a PhD Candidate in the University of Waterloo.\n",
    "\n",
    "[Faranak Heidari](https://author.skills.network/instructors/faranak_heidari) is a Data Scientist at IBM. \n"
   ]
  },
  {
   "cell_type": "markdown",
   "metadata": {},
   "source": [
    "<!---\n",
    "## Change log\n",
    "\n",
    "|Date (YYYY-MM-DD)|Version|Changed By|Change Description|\n",
    "|-|-|-|-|\n",
    "|2025-03-07|1.1|Hailey Quach|Updated lab|\n",
    "|2025-04-03|1.2|Jojy John|ID Reviewed|\n",
    "|2025-04-03|1.2|Rahul Rawat|QA pass|\n",
    "--->\n"
   ]
  },
  {
   "cell_type": "markdown",
   "metadata": {},
   "source": [
    "© Copyright IBM Corporation. All rights reserved.\n"
   ]
  }
 ],
 "metadata": {
  "kernelspec": {
   "display_name": "Python 3 (ipykernel)",
   "language": "python",
   "name": "python3"
  },
  "language_info": {
   "codemirror_mode": {
    "name": "ipython",
    "version": 3
   },
   "file_extension": ".py",
   "mimetype": "text/x-python",
   "name": "python",
   "nbconvert_exporter": "python",
   "pygments_lexer": "ipython3",
   "version": "3.12.8"
  },
  "prev_pub_hash": "e43dcbc6863fa97d6f22fc591396080d9328c224d2a0342d1c4b9c89dd84f4ba"
 },
 "nbformat": 4,
 "nbformat_minor": 4
}
